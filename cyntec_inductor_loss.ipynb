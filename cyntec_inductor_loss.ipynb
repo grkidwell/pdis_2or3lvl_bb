{
 "cells": [
  {
   "cell_type": "code",
   "execution_count": 1,
   "id": "acdeeb9c-5264-4a8f-96b7-4b1adaea400e",
   "metadata": {
    "tags": []
   },
   "outputs": [],
   "source": [
    "import pandas as pd\n",
    "import numpy as np\n",
    "import openpyxl\n",
    "\n",
    "import libs.append_path\n",
    "from add_python_libraries import *\n",
    "import pd_filter_fcns\n",
    "\n",
    "#from ihlp_0v1 import Inductor_pdis, circuit_params, ind_pdis_obj, l_set, ihlp_filename\n",
    "from cyntec import Inductor_pdis, lparams,create_ind_family_df, ind_pdis_obj, l_set, cyntec_filename\n",
    "from circuit_4state import circuit_params as circuit_params_4state\n",
    "from circuit_2state import circuit_params as circuit_params_2state\n",
    "\n",
    "\n",
    "\n",
    "import pd_filter_fcns"
   ]
  },
  {
   "cell_type": "markdown",
   "id": "255d4446-0669-417c-b68b-ca9df431de96",
   "metadata": {},
   "source": [
    "### Input Parameters"
   ]
  },
  {
   "cell_type": "code",
   "execution_count": 3,
   "id": "dfaa65ab-b3b5-4bd6-833b-6f94d74cd7cd",
   "metadata": {
    "jupyter": {
     "source_hidden": true
    }
   },
   "outputs": [],
   "source": [
    "input_params = {'vin' : 20,\n",
    "                'vout': 11.1,\n",
    "                'pin' : 1, \n",
    "                'eff' : .97, \n",
    "                'fs'  :750e3,\n",
    "                'ton_mult':1,\n",
    "                'tambient':25,\n",
    "                'lout':{'family'   :'hbed053t',\n",
    "                        'value(uH)':1.0,\n",
    "                        'config'   :'single'},\n",
    "                'lvl_config':'2 level',\n",
    "               }\n",
    "input_params['iout'] = input_params['pin']*input_params['eff']/input_params['vout']"
   ]
  },
  {
   "cell_type": "code",
   "execution_count": 53,
   "id": "a7979ce0-4591-403b-926a-f2f50fbcbfed",
   "metadata": {},
   "outputs": [],
   "source": [
    "input_params = {'vin' : 28,\n",
    "                'vout': 9,\n",
    "                'pin' : 165, \n",
    "                'eff' : .97, \n",
    "                'fs'  :400e3,\n",
    "                'ton_mult':1,\n",
    "                'tambient':45,\n",
    "                'lout':{'family'   :'hbed053t',\n",
    "                        'value(uH)':0.47,\n",
    "                        'config'   :'single'},     #single, series, parallel\n",
    "                'lvl_config':'3 level',   #2 level\n",
    "               }\n",
    "input_params['iout'] = input_params['pin']*input_params['eff']/input_params['vout']"
   ]
  },
  {
   "cell_type": "code",
   "execution_count": 49,
   "id": "ec8b54eb-24ac-4c81-bd5d-26f83471f432",
   "metadata": {
    "jupyter": {
     "source_hidden": true
    }
   },
   "outputs": [],
   "source": [
    "input_params = {'vin' : 28,\n",
    "                'vout': 9,\n",
    "                'pin' : 165, \n",
    "                'eff' : .97, \n",
    "                'fs'  :600e3,\n",
    "                'ton_mult':.68,\n",
    "                'tambient':45,\n",
    "                'lout':{'family'   :'cmlb104t',\n",
    "                        'value(uH)':0.47,\n",
    "                        'config'   :'single'},\n",
    "                'lvl_config':'2 level',\n",
    "               }\n",
    "input_params['iout'] = input_params['pin']*input_params['eff']/input_params['vout']"
   ]
  },
  {
   "cell_type": "code",
   "execution_count": null,
   "id": "e5847296-d1dc-4e74-9d52-f6cda41d4a1f",
   "metadata": {
    "jupyter": {
     "source_hidden": true
    },
    "scrolled": true,
    "tags": []
   },
   "outputs": [],
   "source": [
    "# ip=input_params\n",
    "# lvl_config=ip['lvl_config']\n",
    "# ckt_params = {'2 level':circuit_params_2state(ip),\n",
    "#               '3 level':circuit_params_4state(ip)}\\\n",
    "#               [lvl_config]\n",
    "                                        \n",
    "# wb=openpyxl.load_workbook(filename=cyntec_filename)\n",
    "# l_families = wb.sheetnames  # can use a subset list\n"
   ]
  },
  {
   "cell_type": "markdown",
   "id": "907c825c-0e35-4878-9f9c-22a24fa9eba7",
   "metadata": {},
   "source": [
    "### Individual inductor"
   ]
  },
  {
   "cell_type": "code",
   "execution_count": 54,
   "id": "3f94b51f-9992-45dc-adff-b1012712b338",
   "metadata": {},
   "outputs": [],
   "source": [
    "lobj = Inductor_pdis(input_params) #ckt_params)"
   ]
  },
  {
   "cell_type": "code",
   "execution_count": 55,
   "id": "fca9959a-d318-4d9f-8b2e-be87a4f14d3e",
   "metadata": {},
   "outputs": [
    {
     "data": {
      "text/plain": [
       "{'dcr': 0.9884728178888784,\n",
       " 'core': 0.6176158805705364,\n",
       " 'ipp': 8.548632218844984,\n",
       " 'fs_dcm': 800000.0,\n",
       " 'ton_mult': 1,\n",
       " 'irms_dcm': 17.95374252105116}"
      ]
     },
     "execution_count": 55,
     "metadata": {},
     "output_type": "execute_result"
    }
   ],
   "source": [
    "lobj.summary"
   ]
  },
  {
   "cell_type": "code",
   "execution_count": 56,
   "id": "8c5b457a-ccbf-4ca6-8315-da6eeac48e9e",
   "metadata": {},
   "outputs": [
    {
     "name": "stdout",
     "output_type": "stream",
     "text": [
      "Total: 1.606\n",
      "DC: 0.988\n",
      "core: 0.618\n",
      "Temp: 83.8\n"
     ]
    }
   ],
   "source": [
    "lobj.losses()"
   ]
  },
  {
   "cell_type": "code",
   "execution_count": null,
   "id": "359fed97-ccb3-4929-8a19-60ceecfc0859",
   "metadata": {},
   "outputs": [],
   "source": [
    "lobj."
   ]
  }
 ],
 "metadata": {
  "kernelspec": {
   "display_name": "Python 3 (ipykernel)",
   "language": "python",
   "name": "python3"
  },
  "language_info": {
   "codemirror_mode": {
    "name": "ipython",
    "version": 3
   },
   "file_extension": ".py",
   "mimetype": "text/x-python",
   "name": "python",
   "nbconvert_exporter": "python",
   "pygments_lexer": "ipython3",
   "version": "3.9.13"
  }
 },
 "nbformat": 4,
 "nbformat_minor": 5
}
