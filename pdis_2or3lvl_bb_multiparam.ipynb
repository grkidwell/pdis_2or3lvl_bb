{
 "cells": [
  {
   "cell_type": "markdown",
   "id": "839ee563-bb8a-4504-a603-c2b3d490286f",
   "metadata": {},
   "source": [
    "## 2lvl or 3lvl Buck or Buckboost Power Dissapation"
   ]
  },
  {
   "cell_type": "code",
   "execution_count": null,
   "id": "59e21e25-3a90-4497-be14-5a0052466fb6",
   "metadata": {},
   "outputs": [],
   "source": [
    "# use modified cyntec model, which simplifies input parameter dependent variables\n",
    "# added nxTON DCM calculation"
   ]
  },
  {
   "cell_type": "markdown",
   "id": "285ad67d-4133-4fc9-a259-6879ec52728f",
   "metadata": {},
   "source": [
    "#### to do:\n",
    "1. verify ciss,coss and crss models vs. datasheet graphs\n",
    "2. improve self heating of mosfets\n",
    "3. set up jupyter server for public use\n",
    "4. create gui front end\n",
    "5. add features to excel export function "
   ]
  },
  {
   "cell_type": "code",
   "execution_count": 1,
   "id": "446fc91a-4bd5-485f-8a35-81f39d2b2849",
   "metadata": {
    "tags": []
   },
   "outputs": [],
   "source": [
    "import libs.append_path\n",
    "from add_python_libraries import *\n",
    "import pd_filter_fcns\n",
    "\n",
    "from bucklosses_dcm import Buckconverter_losses\n",
    "\n",
    "from multiparam_multivar_generic import Multiparam_multivar_df as mp_mv_df"
   ]
  },
  {
   "cell_type": "markdown",
   "id": "628f436b-490d-47dc-a1c9-439d07877b4e",
   "metadata": {},
   "source": [
    "### Input Parameters "
   ]
  },
  {
   "cell_type": "code",
   "execution_count": 2,
   "id": "2e322efb-b68b-484b-9296-ffd0e7f57bcd",
   "metadata": {},
   "outputs": [],
   "source": [
    "input_params = {'vin': 28,\n",
    "                'vout': 9, #9,\n",
    "                'pin': 164,\n",
    "                'eff': 1,\n",
    "                'fs':300e3, #318e3,   #839k,723k,635k carova at inductor\n",
    "                'ton_mult':1,\n",
    "                'tambient':35,\n",
    "                'controller':'raa489300',\n",
    "                'r_shunt_input':0.010,\n",
    "                'rboot':1,\n",
    "                'lout':{'family':'cmll063t', #'hbed053t', #'cmll063t', #'hbed053t', #'ihlp5050ez01', #'hbed053t',\n",
    "                        'value(uH)':0.4, #1.0,\n",
    "                        'config':'single'},\n",
    "                'lvl_config':'3 level',\n",
    "                'hsfet_partnum':'SIRA12DDP', #'SISH536DN',#'SIRA12DDP', #'RBE030N04',#'SIRA12DDP', #'SIRA74DP',#'ISC046N04NM5','SISH536DN', #'SIRA12DDP',#'SISH536DN',#'SIZ342',#'SISH536DN', #'BSZ024N04LS6',#'SISH536DN', #'ISZ0702NLS',#'SIRA74DP',#'SIRA74DP','BSC059N04LS6',#'BSZ063N04LS6',#'SIR426DP',#'SIS488DN',#'SIRA74DP',#'SIS488DN',#'AONS66408',#'AONR66406',#'SIS488DN',#'SISS4410DN',#'SISA14DN',##'SISS4410DN',#'BSC059N04LS6', #'SIS488DN''SIR426DP'\n",
    "                'lsfet_partnum':'RBE023N04',#'SIRA62DDP', #'RBE023N04',#'SIRA62DDP', #'SISS54DN', #'SIRA62DDP', #'RBE023N04',#'SIRA74DP',#'RBE023N04',#'SIRA62DDP', #'SISS54DN',#'BSZ024N04LS6',#'SISA72ADN',#'SISA72ADN',#'AONS66408',#'SISS4410DN',#'SIRA74DP', #'AONS66408',#'BSC059N04LS6',#'BSZ024N04LS6',#'SIRA74DP',\n",
    "                'q4_partnum':'AON6314', #'SHORT',#'SISS52DN',#'AON6314', #'SHORT', #'BSC020N03MSG',#'BSC020N03MSG',#'SIRA74DP',#,'AON7318',#'AONR36368',#'AON7318',#'SISA14DN',#'SISA14DN', #'SHORT', #'SISS52DN',\n",
    "                'vgate':10,\n",
    "                'm_hs':1,\n",
    "                'm_ls':1,\n",
    "                'rd':0.5,\n",
    "                'caps':{'vin'   :{'partnum':'GRM32EC72A106KE05L','n':4},\n",
    "                        'vout'  :{'partnum':'GRM32EC72A106KE05L','n':8},\n",
    "                        'flying':{'partnum':'C2012X5R1H106K125AC','n':8}}\n",
    "               }\n",
    "input_params['iout'] = input_params['pin']*input_params['eff']/input_params['vout']"
   ]
  },
  {
   "cell_type": "code",
   "execution_count": null,
   "id": "a1e02264-37ef-4b98-bcc4-ea64f2ae856e",
   "metadata": {
    "jupyter": {
     "source_hidden": true
    }
   },
   "outputs": [],
   "source": [
    "input_params = {'vin': 28,\n",
    "                'vout': 12, #9,\n",
    "                'pin': 165,\n",
    "                'eff': 1,\n",
    "                'fs':733e3, #318e3,   #839k,723k,635k carova at inductor\n",
    "                'ton_mult':1,\n",
    "                'tambient':45,\n",
    "                'controller':'raa489110',\n",
    "                'r_shunt_input':0.010,\n",
    "                'rboot':0,\n",
    "                'lout':{'family':'ihlp5050ez01', #'hbed053t',\n",
    "                        'value(uH)':2.2,\n",
    "                        'config':'single'},\n",
    "                'lvl_config':'2 level',\n",
    "                'hsfet_partnum':'AONS66408',#'BSZ024N04LS6',#'SISH536DN', #'ISZ0702NLS',#'SIRA74DP',#'SIRA74DP','BSC059N04LS6',#'BSZ063N04LS6',#'SIR426DP',#'SIS488DN',#'SIRA74DP',#'SIS488DN',#'AONS66408',#'AONR66406',#'SIS488DN',#'SISS4410DN',#'SISA14DN',##'SISS4410DN',#'BSC059N04LS6', #'SIS488DN''SIR426DP'\n",
    "                'lsfet_partnum':'AONS66408',#'SISS52DN',#'BSZ024N04LS6',#'SISA72ADN',#'SISA72ADN',#'AONS66408',#'SISS4410DN',#'SIRA74DP', #'AONS66408',#'BSC059N04LS6',#'BSZ024N04LS6',#'SIRA74DP',\n",
    "                'q4_partnum':'AON6314',#'SHORT', #'BSC020N03MSG',#'BSC020N03MSG',#'SIRA74DP',#,'AON7318',#'AONR36368',#'AON7318',#'SISA14DN',#'SISA14DN', #'SHORT', #'SISS52DN',\n",
    "                'vgate':5,\n",
    "                'm_hs':2,\n",
    "                'm_ls':1,\n",
    "                'rd':0.5,\n",
    "                'caps':{'vin'   :{'partnum':'GRM32EC72A106KE05L','n':4},\n",
    "                        'vout'  :{'partnum':'GRM32EC72A106KE05L','n':8},\n",
    "                        'flying':{'partnum':'C2012X5R1H106K125AC','n':8}}\n",
    "               }\n",
    "input_params['iout'] = input_params['pin']*input_params['eff']/input_params['vout']"
   ]
  },
  {
   "cell_type": "markdown",
   "id": "582e2b0a-660b-498b-b9c8-01108613c661",
   "metadata": {},
   "source": [
    "## Results"
   ]
  },
  {
   "cell_type": "code",
   "execution_count": 3,
   "id": "dea7e0d0-655b-4253-8c14-d11e688a0227",
   "metadata": {},
   "outputs": [
    {
     "data": {
      "text/plain": [
       "{'hs fet': 1.257,\n",
       " 'ls fet': 1.0188,\n",
       " 'q4 fet': 0.7981,\n",
       " 'lout': 1.6024,\n",
       " 'caps': 0.4581,\n",
       " 'ic_with_gate': 0.446,\n",
       " 'total': 8.5621,\n",
       " 'efficiency': 0.9504,\n",
       " 'Fs': 600000.0}"
      ]
     },
     "execution_count": 3,
     "metadata": {},
     "output_type": "execute_result"
    }
   ],
   "source": [
    "b_loss = Buckconverter_losses(input_params)\n",
    "b_loss.p_totals#|b_loss.p_summary"
   ]
  },
  {
   "cell_type": "code",
   "execution_count": 4,
   "id": "1405dec5-d6df-4dac-804e-4549e754075a",
   "metadata": {},
   "outputs": [
    {
     "data": {
      "text/plain": [
       "{'hs turn-on': 0.001,\n",
       " 'hs turn-off': 0.913,\n",
       " 'hs rdson': 0.323,\n",
       " 'hs ringing': 0.019,\n",
       " 'hs gate': 0.048,\n",
       " 'ls rdson': 0.453,\n",
       " 'ls bd': 0.333,\n",
       " 'ls ring_qrr': 0.232,\n",
       " 'ls gate': 0.15,\n",
       " 'q4_rdson': 0.798,\n",
       " 'lout rdc+rac': 0.823,\n",
       " 'lout core': 0.78,\n",
       " 'flying cap': 0.051,\n",
       " 'input cap': 0.404,\n",
       " 'board cu': 0.363,\n",
       " 'ic': 0.05,\n",
       " 'inp_shunt': 0.343}"
      ]
     },
     "execution_count": 4,
     "metadata": {},
     "output_type": "execute_result"
    }
   ],
   "source": [
    "b_loss.p_summary"
   ]
  },
  {
   "cell_type": "code",
   "execution_count": null,
   "id": "2123e661-41d5-4cad-b8f0-1c502e2518ef",
   "metadata": {},
   "outputs": [],
   "source": [
    "b_loss.ls_losses_obj.fet_cap.q_oss(14)/2*14*300e3"
   ]
  },
  {
   "cell_type": "code",
   "execution_count": null,
   "id": "ef682985-971d-4ad0-91d6-69f3a3921c94",
   "metadata": {},
   "outputs": [],
   "source": [
    "b_loss.ls_losses_obj.qrr()"
   ]
  },
  {
   "cell_type": "code",
   "execution_count": null,
   "id": "c5f103ca-8c6d-4813-a982-251f792e87d1",
   "metadata": {},
   "outputs": [],
   "source": [
    "b_loss.ls_losses_obj.qrr('print')"
   ]
  },
  {
   "cell_type": "markdown",
   "id": "f8d80c82-08e4-4acd-8fd0-d0540dfa1e88",
   "metadata": {},
   "source": [
    "## Multiple Config Comparison"
   ]
  },
  {
   "cell_type": "markdown",
   "id": "fe677692-b92a-4139-adff-8a1e93b32dfe",
   "metadata": {},
   "source": [
    "### Scenario 1: Create Config Dictionary for Various Parameters"
   ]
  },
  {
   "cell_type": "code",
   "execution_count": null,
   "id": "d14782cb-fb13-43fa-a849-f71d9b423062",
   "metadata": {},
   "outputs": [],
   "source": [
    "input_config = {idx+1:new_params for idx,new_params in enumerate([    \n",
    "                {'ton_mult':0.5},    \n",
    "                {'ton_mult':1},\n",
    "                {'ton_mult':1.5},\n",
    "                {'ton_mult':2}])}\n"
   ]
  },
  {
   "cell_type": "code",
   "execution_count": null,
   "id": "f0af204f-471b-466c-b6b5-d64788291310",
   "metadata": {},
   "outputs": [],
   "source": [
    "input_config = {idx+1:new_params for idx,new_params in enumerate([    \n",
    "                {'vin':28,\n",
    "                 'pin':164,\n",
    "                 'fs':300e3,\n",
    "                 'hsfet_partnum':'SISH536DN',\n",
    "                 'lsfet_partnum':'SISS54DN'},    \n",
    "                {'vin':32,\n",
    "                 'pin':159,\n",
    "                 'fs':300e3,\n",
    "                 'hsfet_partnum':'SISA72DN',\n",
    "                 'lsfet_partnum':'SIRA62DDP'},\n",
    "                {'vin':32,\n",
    "                 'pin':159,\n",
    "                 'fs':300e3,\n",
    "                 'hsfet_partnum':'SIRA74DP',\n",
    "                 'lsfet_partnum':'SIRA62DDP'}])}\n"
   ]
  },
  {
   "cell_type": "markdown",
   "id": "7c727449-9e26-4fb2-80f1-94ccc69dc6dc",
   "metadata": {},
   "source": [
    "###  Scenario 2: Setup Config Dictionary for Multiple FETs"
   ]
  },
  {
   "cell_type": "code",
   "execution_count": null,
   "id": "06c0d97e-5580-43c6-bdb2-9991aadd9952",
   "metadata": {},
   "outputs": [],
   "source": [
    "fetlist_30V_3x3 = ['SISH536DN',\n",
    " 'SIZ350',\n",
    " 'SIZ342',\n",
    " 'SISA14DN',\n",
    " 'AON7318',\n",
    " 'AONR36368',\n",
    " 'SISS66DN',\n",
    " 'SISS54DN',\n",
    " 'SISS52DN',\n",
    " 'SISA12BDN']"
   ]
  },
  {
   "cell_type": "code",
   "execution_count": null,
   "id": "ba9a83b4-314c-4a14-a904-fd3a26437965",
   "metadata": {},
   "outputs": [],
   "source": [
    "fetlist_40V_5x6 = ['AONS66408',\n",
    " 'BSC032N04LS',\n",
    " 'ISC036N04NM5',\n",
    " 'BSC059N04LS6',\n",
    " 'BSC022N04LS6',\n",
    " 'ISC046N04NM5',\n",
    " 'BSC059N04LSG',\n",
    " 'SIRA74DP',\n",
    " 'RBE023N04',\n",
    " 'RBE030N04']"
   ]
  },
  {
   "cell_type": "code",
   "execution_count": null,
   "id": "40d4e836-470e-4c1f-965a-cd340f08401c",
   "metadata": {},
   "outputs": [],
   "source": [
    "fetlist_30V_and_40V_5x6 = ['SIRA62DDP','AONS66408',\n",
    " 'BSC032N04LS',\n",
    " 'ISC036N04NM5',\n",
    " 'BSC022N04LS6',\n",
    " 'SIRA74DP',\n",
    " 'RBE023N04',\n",
    " 'RBE030N04']"
   ]
  },
  {
   "cell_type": "code",
   "execution_count": null,
   "id": "bfc91010-beee-4068-90b2-2b8ecb272387",
   "metadata": {},
   "outputs": [],
   "source": [
    "input_config = {idx+1:{'lsfet_partnum':partnum} for idx,partnum in enumerate(fetlist_30V_and_40V_5x6)}"
   ]
  },
  {
   "cell_type": "markdown",
   "id": "1de1f506-0047-400e-beb8-5397ceff0c2d",
   "metadata": {},
   "source": [
    "### Perform Pdis Calculations on Config Dictionary"
   ]
  },
  {
   "cell_type": "code",
   "execution_count": null,
   "id": "c48af56d-9abd-42df-99e3-18b81d6b205f",
   "metadata": {},
   "outputs": [],
   "source": [
    "iout = [input_params['iout']]\n",
    "var_list = {'param':'iout','values':iout}\n",
    "\n",
    "df_all = mp_mv_df(Buckconverter_losses,input_params,input_config,var_list).df\n",
    "df_all.reset_index(inplace=True)\n",
    "df_all.drop(['index'],axis=1,inplace=True)\n"
   ]
  },
  {
   "cell_type": "markdown",
   "id": "974212da-c652-4aff-a5f2-858a5e989030",
   "metadata": {},
   "source": [
    "### Determine Which Parameters (Columns) are to be displayed in the Comparison"
   ]
  },
  {
   "cell_type": "code",
   "execution_count": null,
   "id": "75c9093d-bdf4-49a1-9ec9-0f7f4104dcfa",
   "metadata": {},
   "outputs": [],
   "source": [
    "df_all.columns"
   ]
  },
  {
   "cell_type": "code",
   "execution_count": null,
   "id": "e4250e4a-2e4d-4233-91ec-935a8e7b327d",
   "metadata": {},
   "outputs": [],
   "source": [
    "input_config_params = list(input_config[1].keys())\n",
    "#column_strings = \n",
    "lsfet = [param for param in df_all.columns if 'ls ' in param]\n",
    "hsfet = [param for param in df_all.columns if 'hs ' in param]\n",
    "lout = [param for param in df_all.columns if 'lout' in param]\n",
    "\n",
    "xtra_columns = lsfet #+ ['ls fet'] + lout #hsfet# + lsfet\n",
    "concise_column_list = ['config'] + input_config_params + xtra_columns +['total','efficiency']"
   ]
  },
  {
   "cell_type": "markdown",
   "id": "9f25240e-de64-464e-9680-524e6249c135",
   "metadata": {},
   "source": [
    "### Result"
   ]
  },
  {
   "cell_type": "code",
   "execution_count": null,
   "id": "ce26e33b-1ef7-4661-9250-53714c94dfc6",
   "metadata": {},
   "outputs": [],
   "source": [
    "df_all.filter(concise_column_list).sort_values(by=\"total\") #\"ls fet\")"
   ]
  },
  {
   "cell_type": "code",
   "execution_count": null,
   "id": "e9497bee-f150-4bcc-9eab-c425d3d85a14",
   "metadata": {},
   "outputs": [],
   "source": [
    "df_all.to_csv(r'sim_results\\165W_28Vin_9Vout_multiple_ls_FETs_051325.csv')"
   ]
  },
  {
   "cell_type": "code",
   "execution_count": null,
   "id": "d1e5e85b-3ea3-488f-8a73-48b46cf3ff36",
   "metadata": {},
   "outputs": [],
   "source": [
    "df = pd.DataFrame.from_dict(b_loss.p_summary| b_loss.p_totals,orient='index',columns=[b_loss.idc])\n",
    "df.T"
   ]
  },
  {
   "cell_type": "code",
   "execution_count": null,
   "id": "cc4385c8-62ae-4d79-bcf0-0304d0c83a39",
   "metadata": {},
   "outputs": [],
   "source": []
  }
 ],
 "metadata": {
  "kernelspec": {
   "display_name": "Python 3 (ipykernel)",
   "language": "python",
   "name": "python3"
  },
  "language_info": {
   "codemirror_mode": {
    "name": "ipython",
    "version": 3
   },
   "file_extension": ".py",
   "mimetype": "text/x-python",
   "name": "python",
   "nbconvert_exporter": "python",
   "pygments_lexer": "ipython3",
   "version": "3.9.13"
  }
 },
 "nbformat": 4,
 "nbformat_minor": 5
}
