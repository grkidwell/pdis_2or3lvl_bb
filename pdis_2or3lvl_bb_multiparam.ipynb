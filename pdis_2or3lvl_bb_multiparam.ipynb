{
 "cells": [
  {
   "cell_type": "markdown",
   "id": "839ee563-bb8a-4504-a603-c2b3d490286f",
   "metadata": {},
   "source": [
    "## 2lvl or 3lvl Buck or Buckboost Power Dissapation"
   ]
  },
  {
   "cell_type": "code",
   "execution_count": null,
   "id": "59e21e25-3a90-4497-be14-5a0052466fb6",
   "metadata": {},
   "outputs": [],
   "source": [
    "# use modified cyntec model, which simplifies input parameter dependent variables\n",
    "# added nxTON DCM calculation"
   ]
  },
  {
   "cell_type": "markdown",
   "id": "285ad67d-4133-4fc9-a259-6879ec52728f",
   "metadata": {},
   "source": [
    "#### to do:\n",
    "1. verify ciss,coss and crss models vs. datasheet graphs\n",
    "2. add self heating to mosfets\n",
    "3. set up jupyter server for public use\n",
    "4. create gui front end\n",
    "5. add features to excel export function "
   ]
  },
  {
   "cell_type": "code",
   "execution_count": 1,
   "id": "446fc91a-4bd5-485f-8a35-81f39d2b2849",
   "metadata": {
    "tags": []
   },
   "outputs": [],
   "source": [
    "import libs.append_path\n",
    "from add_python_libraries import *\n",
    "import pd_filter_fcns\n",
    "\n",
    "from bucklosses_dcm import Buckconverter_losses\n",
    "\n",
    "from multiparam_multivar_generic import Multiparam_multivar_df as mp_mv_df"
   ]
  },
  {
   "cell_type": "markdown",
   "id": "628f436b-490d-47dc-a1c9-439d07877b4e",
   "metadata": {},
   "source": [
    "### Input Parameters"
   ]
  },
  {
   "cell_type": "code",
   "execution_count": null,
   "id": "ca3d8cb8-edc0-410e-a4d2-cfe2c73c1d6c",
   "metadata": {
    "jupyter": {
     "source_hidden": true
    }
   },
   "outputs": [],
   "source": [
    "# input_params = {'vin': 20,\n",
    "#                 'vout': 11.1,\n",
    "#                 'pin': 100, #21.5, #30.6,\n",
    "#                 'eff': .97, #.95,\n",
    "#                 'fs':375e3,\n",
    "#                 'ton_mult':1,\n",
    "#                 'tambient':25,\n",
    "#                 'controller':'raa489300',\n",
    "#                 #'r_shunt_input':0.010,\n",
    "#                 'lout':{'family':'hbed053t',\n",
    "#                         'value(uH)':0.33,\n",
    "#                         'config':'single'},\n",
    "#                 'lvl_config':'3 level',\n",
    "#                 'hsfet_partnum':'SIZF5302DT', #'SISH536DN',   #'ISZ0702NLS',#'SIRA74DP',#'SIRA74DP','BSC059N04LS6',#'BSZ063N04LS6',#'SIR426DP',#'SIS488DN',#'SIRA74DP',#'SIS488DN',#'AONS66408',#'AONR66406',#'SIS488DN',#'SISS4410DN',#'SISA14DN',##'SISS4410DN',#'BSC059N04LS6', #'SIS488DN''SIR426DP'\n",
    "#                 'lsfet_partnum':'SIZF5300DT', #'SISS52DN',   #'BSZ024N04LS6',#'SISA72ADN',#'SISA72ADN',#'AONS66408',#'SISS4410DN',#'SIRA74DP', #'AONS66408',#'BSC059N04LS6',#'BSZ024N04LS6',#'SIRA74DP',\n",
    "#                 'q4_partnum':'SHORT',       #'BSC020N03MSG',#'BSC020N03MSG',#'SIRA74DP',#,'AON7318',#'AONR36368',#'AON7318',#'SISA14DN',#'SISA14DN', #'SHORT', #'SISS52DN',\n",
    "#                 'vgate':10,\n",
    "#                 'rboot':5,\n",
    "#                 'm_hs':1,\n",
    "#                 'm_ls':1,\n",
    "#                 'rd':0.5,\n",
    "#                 'caps':{'vin'   :{'partnum':'GRM32EC72A106KE05L','n':4},\n",
    "#                         'vout'  :{'partnum':'GRM32EC72A106KE05L','n':8},\n",
    "#                         'flying':{'partnum':'C2012X5R1H106K125AC','n':8}}\n",
    "#                }\n",
    "# input_params['iout'] = input_params['pin']*input_params['eff']/input_params['vout']"
   ]
  },
  {
   "cell_type": "code",
   "execution_count": null,
   "id": "1001c578-5bd8-44bf-92e9-99fa14b4dba8",
   "metadata": {
    "jupyter": {
     "source_hidden": true
    }
   },
   "outputs": [],
   "source": [
    "# input_params = {'vin': 11.4,\n",
    "#                 'vout': 4.2,\n",
    "#                 'pin': 1.3, #21.5, #30.6,\n",
    "#                 'eff': .97, #.95,\n",
    "#                 'fs':300e3,\n",
    "#                 'ton_mult':1,\n",
    "#                 'tambient':25,\n",
    "#                 'controller':'raa489300',\n",
    "#                 #'r_shunt_input':0.010,\n",
    "#                 'lout':{'family':'hbed053t',\n",
    "#                         'value(uH)':0.47,\n",
    "#                         'config':'single'},\n",
    "#                 'lvl_config':'3 level',\n",
    "#                 'hsfet_partnum':'SIZF5302DT', #'SISH536DN',   #'ISZ0702NLS',#'SIRA74DP',#'SIRA74DP','BSC059N04LS6',#'BSZ063N04LS6',#'SIR426DP',#'SIS488DN',#'SIRA74DP',#'SIS488DN',#'AONS66408',#'AONR66406',#'SIS488DN',#'SISS4410DN',#'SISA14DN',##'SISS4410DN',#'BSC059N04LS6', #'SIS488DN''SIR426DP'\n",
    "#                 'lsfet_partnum':'SIZF5300DT',#'SIZF5300DT', #'SISS52DN',   #'BSZ024N04LS6',#'SISA72ADN',#'SISA72ADN',#'AONS66408',#'SISS4410DN',#'SIRA74DP', #'AONS66408',#'BSC059N04LS6',#'BSZ024N04LS6',#'SIRA74DP',\n",
    "#                 'q4_partnum':'SHORT', #'SIZF5300DT',#'SHORT',       #'BSC020N03MSG',#'BSC020N03MSG',#'SIRA74DP',#,'AON7318',#'AONR36368',#'AON7318',#'SISA14DN',#'SISA14DN', #'SHORT', #'SISS52DN',\n",
    "#                 'vgate':5,\n",
    "#                 'rboot':1,\n",
    "#                 'm_hs':1,\n",
    "#                 'm_ls':1,\n",
    "#                 'rd':0.5,\n",
    "#                 'caps':{'vin'   :{'partnum':'GRM32EC72A106KE05L','n':4},\n",
    "#                         'vout'  :{'partnum':'GRM32EC72A106KE05L','n':8},\n",
    "#                         'flying':{'partnum':'C2012X5R1H106K125AC','n':8}}\n",
    "#                }\n",
    "# input_params['iout'] = input_params['pin']*input_params['eff']/input_params['vout']"
   ]
  },
  {
   "cell_type": "code",
   "execution_count": null,
   "id": "93f72604-04ab-4cfa-b3c7-2f7439a273ad",
   "metadata": {
    "jupyter": {
     "source_hidden": true
    }
   },
   "outputs": [],
   "source": [
    "# input_params = {'vin': 28,\n",
    "#                 'vout': 4.2,\n",
    "#                 'pin': 1.3, #21.5, #30.6,\n",
    "#                 'eff': .97, #.95,\n",
    "#                 'fs':300e3,\n",
    "#                 'ton_mult':1,\n",
    "#                 'tambient':25,\n",
    "#                 'controller':'raa489300',\n",
    "#                 #'r_shunt_input':0.010,\n",
    "#                 'lout':{'family':'hbed053t',\n",
    "#                         'value(uH)':0.47,\n",
    "#                         'config':'single'},\n",
    "#                 'lvl_config':'3 level',\n",
    "#                 'hsfet_partnum':'SIZF5302DT', #'SISH536DN',   #'ISZ0702NLS',#'SIRA74DP',#'SIRA74DP','BSC059N04LS6',#'BSZ063N04LS6',#'SIR426DP',#'SIS488DN',#'SIRA74DP',#'SIS488DN',#'AONS66408',#'AONR66406',#'SIS488DN',#'SISS4410DN',#'SISA14DN',##'SISS4410DN',#'BSC059N04LS6', #'SIS488DN''SIR426DP'\n",
    "#                 'lsfet_partnum':'SIZF5300DT',#'SIZF5300DT', #'SISS52DN',   #'BSZ024N04LS6',#'SISA72ADN',#'SISA72ADN',#'AONS66408',#'SISS4410DN',#'SIRA74DP', #'AONS66408',#'BSC059N04LS6',#'BSZ024N04LS6',#'SIRA74DP',\n",
    "#                 'q4_partnum':'SHORT', #'SIZF5300DT',#'SHORT',       #'BSC020N03MSG',#'BSC020N03MSG',#'SIRA74DP',#,'AON7318',#'AONR36368',#'AON7318',#'SISA14DN',#'SISA14DN', #'SHORT', #'SISS52DN',\n",
    "#                 'vgate':5,\n",
    "#                 'rboot':1,\n",
    "#                 'm_hs':1,\n",
    "#                 'm_ls':1,\n",
    "#                 'rd':0.5,\n",
    "#                 'caps':{'vin'   :{'partnum':'GRM32EC72A106KE05L','n':4},\n",
    "#                         'vout'  :{'partnum':'GRM32EC72A106KE05L','n':8},\n",
    "#                         'flying':{'partnum':'C2012X5R1H106K125AC','n':8}}\n",
    "#                }\n",
    "# input_params['iout'] = input_params['pin']*input_params['eff']/input_params['vout']"
   ]
  },
  {
   "cell_type": "code",
   "execution_count": null,
   "id": "bcd57077-ef67-44fd-b46e-6a28e4992133",
   "metadata": {
    "jupyter": {
     "source_hidden": true
    }
   },
   "outputs": [],
   "source": [
    "# input_params = {'vin': 48,\n",
    "#                 'vout': 20,\n",
    "#                 'pin': 280, #21.5, #30.6,\n",
    "#                 'eff': .98, #.95,\n",
    "#                 'fs':320e3,\n",
    "#                 'tambient':45,\n",
    "#                 'controller':'raa489300',\n",
    "#                 #'r_shunt_input':0.010,\n",
    "#                 'lout':{'family':'cmll063t',\n",
    "#                         'value(uH)':0.68,\n",
    "#                         'config':'single'},\n",
    "#                 'lvl_config':'3 level',\n",
    "#                 'hsfet_partnum':'ISZ0702NLS', #'SISH536DN',   #'ISZ0702NLS',#'SIRA74DP',#'SIRA74DP','BSC059N04LS6',#'BSZ063N04LS6',#'SIR426DP',#'SIS488DN',#'SIRA74DP',#'SIS488DN',#'AONS66408',#'AONR66406',#'SIS488DN',#'SISS4410DN',#'SISA14DN',##'SISS4410DN',#'BSC059N04LS6', #'SIS488DN''SIR426DP'\n",
    "#                 'lsfet_partnum':'BSZ024N04LS6',#'SISS52DN',   #'BSZ024N04LS6',#'SISA72ADN',#'SISA72ADN',#'AONS66408',#'SISS4410DN',#'SIRA74DP', #'AONS66408',#'BSC059N04LS6',#'BSZ024N04LS6',#'SIRA74DP',\n",
    "#                 'q4_partnum':'SHORT',       #'BSC020N03MSG',#'BSC020N03MSG',#'SIRA74DP',#,'AON7318',#'AONR36368',#'AON7318',#'SISA14DN',#'SISA14DN', #'SHORT', #'SISS52DN',\n",
    "#                 'vgate':10,\n",
    "#                 'rboot':3,\n",
    "#                 'm_hs':1,\n",
    "#                 'm_ls':1,\n",
    "#                 'rd':0.5,\n",
    "#                 'caps':{'vin'   :{'partnum':'GRM32EC72A106KE05L','n':4},\n",
    "#                         'vout'  :{'partnum':'GRM32EC72A106KE05L','n':8},\n",
    "#                         'flying':{'partnum':'C2012X5R1H106K125AC','n':8}}\n",
    "#                }\n",
    "# input_params['iout'] = input_params['pin']*input_params['eff']/input_params['vout']"
   ]
  },
  {
   "cell_type": "code",
   "execution_count": null,
   "id": "623190ff-3375-4ee1-881b-eae59f01a7c5",
   "metadata": {
    "jupyter": {
     "source_hidden": true
    }
   },
   "outputs": [],
   "source": [
    "input_params = {'vin': 28,\n",
    "                'vout': 9, #9,\n",
    "                'pin': 165,\n",
    "                'eff': 1,\n",
    "                'fs':300e3, #318e3,   #839k,723k,635k carova at inductor\n",
    "                'ton_mult':1,\n",
    "                'tambient':60,\n",
    "                'controller':'raa489300',\n",
    "                'r_shunt_input':0.010,\n",
    "                'rboot':1,\n",
    "                'lout':{'family':'hbed053t', #'ihlp5050ez01', #'hbed053t',\n",
    "                        'value(uH)':0.47, #1.0,\n",
    "                        'config':'single'},\n",
    "                'lvl_config':'3 level',\n",
    "                'hsfet_partnum':'AONR36368',#'SISH536DN', #'BSZ024N04LS6',#'SISH536DN', #'ISZ0702NLS',#'SIRA74DP',#'SIRA74DP','BSC059N04LS6',#'BSZ063N04LS6',#'SIR426DP',#'SIS488DN',#'SIRA74DP',#'SIS488DN',#'AONS66408',#'AONR66406',#'SIS488DN',#'SISS4410DN',#'SISA14DN',##'SISS4410DN',#'BSC059N04LS6', #'SIS488DN''SIR426DP'\n",
    "                'lsfet_partnum':'SISS54DN',#'BSZ024N04LS6',#'SISA72ADN',#'SISA72ADN',#'AONS66408',#'SISS4410DN',#'SIRA74DP', #'AONS66408',#'BSC059N04LS6',#'BSZ024N04LS6',#'SIRA74DP',\n",
    "                'q4_partnum':'SHORT',#'SISS52DN',#'AON6314', #'SHORT', #'BSC020N03MSG',#'BSC020N03MSG',#'SIRA74DP',#,'AON7318',#'AONR36368',#'AON7318',#'SISA14DN',#'SISA14DN', #'SHORT', #'SISS52DN',\n",
    "                'vgate':10,\n",
    "                'm_hs':1,\n",
    "                'm_ls':1,\n",
    "                'rd':0.5,\n",
    "                'caps':{'vin'   :{'partnum':'GRM32EC72A106KE05L','n':4},\n",
    "                        'vout'  :{'partnum':'GRM32EC72A106KE05L','n':8},\n",
    "                        'flying':{'partnum':'C2012X5R1H106K125AC','n':8}}\n",
    "               }\n",
    "input_params['iout'] = input_params['pin']*input_params['eff']/input_params['vout']"
   ]
  },
  {
   "cell_type": "code",
   "execution_count": 30,
   "id": "2e322efb-b68b-484b-9296-ffd0e7f57bcd",
   "metadata": {},
   "outputs": [],
   "source": [
    "input_params = {'vin': 28,\n",
    "                'vout': 9, #9,\n",
    "                'pin': 164,\n",
    "                'eff': 1,\n",
    "                'fs':300e3, #318e3,   #839k,723k,635k carova at inductor\n",
    "                'ton_mult':1,\n",
    "                'tambient':35,\n",
    "                'controller':'raa489300',\n",
    "                'r_shunt_input':0.010,\n",
    "                'rboot':1,\n",
    "                'lout':{'family':'cmll063t', #'hbed053t', #'cmll063t', #'hbed053t', #'ihlp5050ez01', #'hbed053t',\n",
    "                        'value(uH)':0.4, #1.0,\n",
    "                        'config':'single'},\n",
    "                'lvl_config':'3 level',\n",
    "                'hsfet_partnum':'SIRA74DP',#'ISC046N04NM5','SISH536DN', #'SIRA12DDP',#'SISH536DN',#'SIZ342',#'SISH536DN', #'BSZ024N04LS6',#'SISH536DN', #'ISZ0702NLS',#'SIRA74DP',#'SIRA74DP','BSC059N04LS6',#'BSZ063N04LS6',#'SIR426DP',#'SIS488DN',#'SIRA74DP',#'SIS488DN',#'AONS66408',#'AONR66406',#'SIS488DN',#'SISS4410DN',#'SISA14DN',##'SISS4410DN',#'BSC059N04LS6', #'SIS488DN''SIR426DP'\n",
    "                'lsfet_partnum':'SISS54DN',#'BSZ024N04LS6',#'SISA72ADN',#'SISA72ADN',#'AONS66408',#'SISS4410DN',#'SIRA74DP', #'AONS66408',#'BSC059N04LS6',#'BSZ024N04LS6',#'SIRA74DP',\n",
    "                'q4_partnum':'AON6314', #'SHORT',#'SISS52DN',#'AON6314', #'SHORT', #'BSC020N03MSG',#'BSC020N03MSG',#'SIRA74DP',#,'AON7318',#'AONR36368',#'AON7318',#'SISA14DN',#'SISA14DN', #'SHORT', #'SISS52DN',\n",
    "                'vgate':10,\n",
    "                'm_hs':1,\n",
    "                'm_ls':1,\n",
    "                'rd':0.5,\n",
    "                'caps':{'vin'   :{'partnum':'GRM32EC72A106KE05L','n':4},\n",
    "                        'vout'  :{'partnum':'GRM32EC72A106KE05L','n':8},\n",
    "                        'flying':{'partnum':'C2012X5R1H106K125AC','n':8}}\n",
    "               }\n",
    "input_params['iout'] = input_params['pin']*input_params['eff']/input_params['vout']"
   ]
  },
  {
   "cell_type": "code",
   "execution_count": null,
   "id": "a1e02264-37ef-4b98-bcc4-ea64f2ae856e",
   "metadata": {
    "jupyter": {
     "source_hidden": true
    }
   },
   "outputs": [],
   "source": [
    "input_params = {'vin': 28,\n",
    "                'vout': 12, #9,\n",
    "                'pin': 165,\n",
    "                'eff': 1,\n",
    "                'fs':733e3, #318e3,   #839k,723k,635k carova at inductor\n",
    "                'ton_mult':1,\n",
    "                'tambient':45,\n",
    "                'controller':'raa489110',\n",
    "                'r_shunt_input':0.010,\n",
    "                'rboot':0,\n",
    "                'lout':{'family':'ihlp5050ez01', #'hbed053t',\n",
    "                        'value(uH)':2.2,\n",
    "                        'config':'single'},\n",
    "                'lvl_config':'2 level',\n",
    "                'hsfet_partnum':'AONS66408',#'BSZ024N04LS6',#'SISH536DN', #'ISZ0702NLS',#'SIRA74DP',#'SIRA74DP','BSC059N04LS6',#'BSZ063N04LS6',#'SIR426DP',#'SIS488DN',#'SIRA74DP',#'SIS488DN',#'AONS66408',#'AONR66406',#'SIS488DN',#'SISS4410DN',#'SISA14DN',##'SISS4410DN',#'BSC059N04LS6', #'SIS488DN''SIR426DP'\n",
    "                'lsfet_partnum':'AONS66408',#'SISS52DN',#'BSZ024N04LS6',#'SISA72ADN',#'SISA72ADN',#'AONS66408',#'SISS4410DN',#'SIRA74DP', #'AONS66408',#'BSC059N04LS6',#'BSZ024N04LS6',#'SIRA74DP',\n",
    "                'q4_partnum':'AON6314',#'SHORT', #'BSC020N03MSG',#'BSC020N03MSG',#'SIRA74DP',#,'AON7318',#'AONR36368',#'AON7318',#'SISA14DN',#'SISA14DN', #'SHORT', #'SISS52DN',\n",
    "                'vgate':5,\n",
    "                'm_hs':2,\n",
    "                'm_ls':1,\n",
    "                'rd':0.5,\n",
    "                'caps':{'vin'   :{'partnum':'GRM32EC72A106KE05L','n':4},\n",
    "                        'vout'  :{'partnum':'GRM32EC72A106KE05L','n':8},\n",
    "                        'flying':{'partnum':'C2012X5R1H106K125AC','n':8}}\n",
    "               }\n",
    "input_params['iout'] = input_params['pin']*input_params['eff']/input_params['vout']"
   ]
  },
  {
   "cell_type": "markdown",
   "id": "582e2b0a-660b-498b-b9c8-01108613c661",
   "metadata": {
    "jp-MarkdownHeadingCollapsed": true
   },
   "source": [
    "## Results"
   ]
  },
  {
   "cell_type": "code",
   "execution_count": 31,
   "id": "dea7e0d0-655b-4253-8c14-d11e688a0227",
   "metadata": {},
   "outputs": [
    {
     "data": {
      "text/plain": [
       "{'hs fet': 1.111,\n",
       " 'ls fet': 0.5588,\n",
       " 'q4 fet': 0.7981,\n",
       " 'lout': 1.6024,\n",
       " 'caps': 0.4581,\n",
       " 'ic_with_gate': 0.416,\n",
       " 'total': 7.3202,\n",
       " 'efficiency': 0.9573,\n",
       " 'Fs': 600000.0}"
      ]
     },
     "execution_count": 31,
     "metadata": {},
     "output_type": "execute_result"
    }
   ],
   "source": [
    "b_loss = Buckconverter_losses(input_params)\n",
    "b_loss.p_totals#|b_loss.p_summary"
   ]
  },
  {
   "cell_type": "code",
   "execution_count": 33,
   "id": "c62359ee-80b4-4b89-a253-dab7e6e6deea",
   "metadata": {},
   "outputs": [],
   "source": [
    "input_params['hsfet_partnum']='ISC046N04NM5'"
   ]
  },
  {
   "cell_type": "code",
   "execution_count": 34,
   "id": "e7e71e5f-171f-481a-8dd2-7ad922f3a4ee",
   "metadata": {},
   "outputs": [
    {
     "data": {
      "text/plain": [
       "{'hs fet': 1.117,\n",
       " 'ls fet': 0.5588,\n",
       " 'q4 fet': 0.7981,\n",
       " 'lout': 1.6024,\n",
       " 'caps': 0.4581,\n",
       " 'ic_with_gate': 0.374,\n",
       " 'total': 7.2901,\n",
       " 'efficiency': 0.9574,\n",
       " 'Fs': 600000.0}"
      ]
     },
     "execution_count": 34,
     "metadata": {},
     "output_type": "execute_result"
    }
   ],
   "source": [
    "c_loss = Buckconverter_losses(input_params)\n",
    "c_loss.p_totals"
   ]
  },
  {
   "cell_type": "code",
   "execution_count": 23,
   "id": "a76979fe-6e60-42cd-a732-cfd77ac4f4da",
   "metadata": {},
   "outputs": [
    {
     "data": {
      "text/plain": [
       "{'hs fet': 1.2196,\n",
       " 'ls fet': 0.5588,\n",
       " 'q4 fet': 0.7981,\n",
       " 'lout': 1.6024,\n",
       " 'caps': 0.4581,\n",
       " 'ic_with_gate': 0.374,\n",
       " 'total': 7.4953,\n",
       " 'efficiency': 0.9563,\n",
       " 'Fs': 600000.0}"
      ]
     },
     "execution_count": 23,
     "metadata": {},
     "output_type": "execute_result"
    }
   ],
   "source": []
  },
  {
   "cell_type": "code",
   "execution_count": 19,
   "id": "1405dec5-d6df-4dac-804e-4549e754075a",
   "metadata": {},
   "outputs": [
    {
     "data": {
      "text/plain": [
       "{'hs turn-on': 0.002,\n",
       " 'hs turn-off': 0.688,\n",
       " 'hs rdson': 0.404,\n",
       " 'hs ringing': 0.017,\n",
       " 'hs gate': 0.063,\n",
       " 'ls rdson': 0.214,\n",
       " 'ls bd': 0.26,\n",
       " 'ls ring_qrr': 0.084,\n",
       " 'ls gate': 0.12,\n",
       " 'q4_rdson': 0.798,\n",
       " 'lout rdc+rac': 0.823,\n",
       " 'lout core': 0.78,\n",
       " 'flying cap': 0.051,\n",
       " 'input cap': 0.404,\n",
       " 'board cu': 0.363,\n",
       " 'ic': 0.05,\n",
       " 'inp_shunt': 0.343}"
      ]
     },
     "execution_count": 19,
     "metadata": {},
     "output_type": "execute_result"
    }
   ],
   "source": [
    "b_loss.p_summary"
   ]
  },
  {
   "cell_type": "code",
   "execution_count": 22,
   "id": "fff08085-afe0-4753-9aa2-1b3a3977c011",
   "metadata": {},
   "outputs": [
    {
     "data": {
      "text/plain": [
       "{'hs turn-on': 0.009,\n",
       " 'hs turn-off': 0.774,\n",
       " 'hs rdson': 0.404,\n",
       " 'hs ringing': 0.033,\n",
       " 'hs gate': 0.042,\n",
       " 'ls rdson': 0.214,\n",
       " 'ls bd': 0.26,\n",
       " 'ls ring_qrr': 0.084,\n",
       " 'ls gate': 0.12,\n",
       " 'q4_rdson': 0.798,\n",
       " 'lout rdc+rac': 0.823,\n",
       " 'lout core': 0.78,\n",
       " 'flying cap': 0.051,\n",
       " 'input cap': 0.404,\n",
       " 'board cu': 0.363,\n",
       " 'ic': 0.05,\n",
       " 'inp_shunt': 0.343}"
      ]
     },
     "execution_count": 22,
     "metadata": {},
     "output_type": "execute_result"
    }
   ],
   "source": [
    "c_loss.p_summary"
   ]
  },
  {
   "cell_type": "code",
   "execution_count": 35,
   "id": "74348fcf-5387-48a9-a588-10de0af74fab",
   "metadata": {},
   "outputs": [
    {
     "data": {
      "image/png": "[encoded data removed]",
      "text/plain": [
       "<Figure size 600x300 with 1 Axes>"
      ]
     },
     "metadata": {},
     "output_type": "display_data"
    }
   ],
   "source": [
    "b_loss.hs_Losses_obj.fet_switch_off_obj.plot_vgs_id_vds()"
   ]
  },
  {
   "cell_type": "code",
   "execution_count": 36,
   "id": "fe6f7d30-f167-4207-89e9-503b3a1a803f",
   "metadata": {},
   "outputs": [
    {
     "data": {
      "image/png": "[encoded data removed]",
      "text/plain": [
       "<Figure size 600x300 with 1 Axes>"
      ]
     },
     "metadata": {},
     "output_type": "display_data"
    }
   ],
   "source": [
    "c_loss.hs_Losses_obj.fet_switch_off_obj.plot_vgs_id_vds()"
   ]
  },
  {
   "cell_type": "markdown",
   "id": "f8d80c82-08e4-4acd-8fd0-d0540dfa1e88",
   "metadata": {},
   "source": [
    "## Multiple Config Comparison"
   ]
  },
  {
   "cell_type": "code",
   "execution_count": null,
   "id": "1920279b-ce9c-4a70-98bd-546690e55b61",
   "metadata": {
    "jupyter": {
     "source_hidden": true
    }
   },
   "outputs": [],
   "source": [
    "input_config = {idx+1:new_params for idx,new_params in enumerate([    \n",
    "                {'hsfet_partnum':'ISZ0702NLS',\n",
    "                 'lsfet_partnum':'SISS52DN'},    \n",
    "                {'hsfet_partnum':'SISS26LDN',\n",
    "                 'lsfet_partnum':'SISS4402DN'}])}\n"
   ]
  },
  {
   "cell_type": "code",
   "execution_count": null,
   "id": "e3e2d7a1-c915-436d-878c-96988859a1f4",
   "metadata": {
    "jupyter": {
     "source_hidden": true
    }
   },
   "outputs": [],
   "source": [
    "input_config = {idx+1:new_params for idx,new_params in enumerate([    \n",
    "                {'hsfet_partnum':'SISH536DN',\n",
    "                 'lsfet_partnum':'SISS52DN'},    \n",
    "                {'hsfet_partnum':'SIZF5302DT',\n",
    "                 'lsfet_partnum':'SIZF5300DT'}])}\n"
   ]
  },
  {
   "cell_type": "code",
   "execution_count": null,
   "id": "1fc4b979-d73a-4627-a229-71d53931eb14",
   "metadata": {
    "jupyter": {
     "source_hidden": true
    }
   },
   "outputs": [],
   "source": [
    "input_config = {idx+1:new_params for idx,new_params in enumerate([    \n",
    "                {'lout':{'family':'hbed053t',\n",
    "                        'value(uH)':0.33,\n",
    "                        'config':'single'}},\n",
    "                {'lout':{'family':'hbed053t',\n",
    "                        'value(uH)':0.47,\n",
    "                        'config':'single'}},\n",
    "                 {'lout':{'family':'hbed053t',\n",
    "                        'value(uH)':0.68,\n",
    "                        'config':'single'}}])}\n"
   ]
  },
  {
   "cell_type": "code",
   "execution_count": null,
   "id": "d14782cb-fb13-43fa-a849-f71d9b423062",
   "metadata": {
    "jupyter": {
     "source_hidden": true
    }
   },
   "outputs": [],
   "source": [
    "input_config = {idx+1:new_params for idx,new_params in enumerate([    \n",
    "                {'ton_mult':0.5},    \n",
    "                {'ton_mult':1},\n",
    "                {'ton_mult':1.5},\n",
    "                {'ton_mult':2}])}\n"
   ]
  },
  {
   "cell_type": "code",
   "execution_count": null,
   "id": "111b07a6-24f5-4945-b34d-3c7a1a352b2d",
   "metadata": {
    "jupyter": {
     "source_hidden": true
    }
   },
   "outputs": [],
   "source": [
    "input_config = {idx+1:new_params for idx,new_params in enumerate([    \n",
    "                {'hsfet_partnum':'SISH536DN',\n",
    "                 'lsfet_partnum':'SISS54DN'},    \n",
    "                {'hsfet_partnum':'BSZ024N04LS6',\n",
    "                 'lsfet_partnum':'SISS52DN'}])}\n"
   ]
  },
  {
   "cell_type": "code",
   "execution_count": null,
   "id": "f32760f4-68ab-4b0d-bf35-8d4b885d4594",
   "metadata": {
    "jupyter": {
     "source_hidden": true
    }
   },
   "outputs": [],
   "source": [
    "input_config = {idx+1:new_params for idx,new_params in enumerate([    \n",
    "                {'lsfet_partnum':'SISS54DN'},    \n",
    "                {'lsfet_partnum':'SISS52DN'}])}\n"
   ]
  },
  {
   "cell_type": "code",
   "execution_count": null,
   "id": "82841c62-b6f5-41dd-92dd-1980f67a4a3c",
   "metadata": {
    "jupyter": {
     "source_hidden": true
    }
   },
   "outputs": [],
   "source": [
    "input_config = {idx+1:new_params for idx,new_params in enumerate([    \n",
    "                {'hsfet_partnum':'SISH536DN'},    \n",
    "                {'hsfet_partnum':'AON7318'}])}\n"
   ]
  },
  {
   "cell_type": "code",
   "execution_count": 3,
   "id": "58f390e5-69a1-4f25-a1a5-d26e2f45b8a7",
   "metadata": {
    "jupyter": {
     "source_hidden": true
    }
   },
   "outputs": [],
   "source": [
    "input_config = {idx+1:new_params for idx,new_params in enumerate([    \n",
    "                {'hsfet_partnum':'SISH536DN'},    \n",
    "                {'hsfet_partnum':'AONR36368'}])}\n"
   ]
  },
  {
   "cell_type": "code",
   "execution_count": null,
   "id": "f0af204f-471b-466c-b6b5-d64788291310",
   "metadata": {
    "jupyter": {
     "source_hidden": true
    }
   },
   "outputs": [],
   "source": [
    "input_config = {idx+1:new_params for idx,new_params in enumerate([    \n",
    "                {'vin':28,\n",
    "                 'pin':164,\n",
    "                 'fs':300e3,\n",
    "                 'hsfet_partnum':'SISH536DN',\n",
    "                 'lsfet_partnum':'SISS54DN'},    \n",
    "                {'vin':32,\n",
    "                 'pin':159,\n",
    "                 'fs':300e3,\n",
    "                 'hsfet_partnum':'SISA72DN',\n",
    "                 'lsfet_partnum':'SIRA62DDP'},\n",
    "                {'vin':32,\n",
    "                 'pin':159,\n",
    "                 'fs':300e3,\n",
    "                 'hsfet_partnum':'SIRA74DP',\n",
    "                 'lsfet_partnum':'SIRA62DDP'}])}\n"
   ]
  },
  {
   "cell_type": "code",
   "execution_count": null,
   "id": "06c0d97e-5580-43c6-bdb2-9991aadd9952",
   "metadata": {},
   "outputs": [],
   "source": [
    "fetlist_30V_3x3 = ['SISH536DN',\n",
    " 'SIZ350',\n",
    " 'SIZ342',\n",
    " 'SISA14DN',\n",
    " 'AON7318',\n",
    " 'AONR36368',\n",
    " 'SISS66DN',\n",
    " 'SISS54DN',\n",
    " 'SISS52DN',\n",
    " 'SISA12BDN']"
   ]
  },
  {
   "cell_type": "code",
   "execution_count": 37,
   "id": "ba9a83b4-314c-4a14-a904-fd3a26437965",
   "metadata": {},
   "outputs": [],
   "source": [
    "fetlist_40V_5x6 = ['AONS66408',\n",
    " 'BSC032N04LS',\n",
    " 'ISC036N04NM5',\n",
    " 'BSC059N04LS6',\n",
    " 'BSC022N04LS6',\n",
    " 'ISC046N04NM5',\n",
    " 'BSC059N04LSG',\n",
    " 'SIRA74DP']"
   ]
  },
  {
   "cell_type": "code",
   "execution_count": 4,
   "id": "bfc91010-beee-4068-90b2-2b8ecb272387",
   "metadata": {},
   "outputs": [],
   "source": [
    "input_config = {idx+1:{'hsfet_partnum':partnum} for idx,partnum in enumerate(fetlist_40V_5x6)}"
   ]
  },
  {
   "cell_type": "code",
   "execution_count": 6,
   "id": "e1980778-4b74-4a92-a851-5a0b8f66cc77",
   "metadata": {},
   "outputs": [],
   "source": [
    "iout = [input_params['iout']]\n",
    "var_list = {'param':'iout','values':iout}"
   ]
  },
  {
   "cell_type": "code",
   "execution_count": 38,
   "id": "c48af56d-9abd-42df-99e3-18b81d6b205f",
   "metadata": {},
   "outputs": [],
   "source": [
    "df_all = mp_mv_df(Buckconverter_losses,input_params,input_config,var_list).df\n",
    "df_all.reset_index(inplace=True)\n",
    "df_all.drop(['index'],axis=1,inplace=True)\n"
   ]
  },
  {
   "cell_type": "code",
   "execution_count": 39,
   "id": "e4250e4a-2e4d-4233-91ec-935a8e7b327d",
   "metadata": {},
   "outputs": [],
   "source": [
    "input_config_params = list(input_config[1].keys())\n",
    "#column_strings = \n",
    "lsfet = [param for param in df_all.columns if 'ls ' in param]\n",
    "hsfet = [param for param in df_all.columns if 'hs ' in param]\n",
    "lout = [param for param in df_all.columns if 'lout' in param]\n",
    "\n",
    "xtra_columns = hsfet #+ ['ls fet'] + lout #hsfet# + lsfet\n",
    "concise_column_list = ['config'] + input_config_params + xtra_columns +['total','efficiency']"
   ]
  },
  {
   "cell_type": "code",
   "execution_count": null,
   "id": "75c9093d-bdf4-49a1-9ec9-0f7f4104dcfa",
   "metadata": {},
   "outputs": [],
   "source": [
    "df_all.columns"
   ]
  },
  {
   "cell_type": "code",
   "execution_count": 40,
   "id": "ce26e33b-1ef7-4661-9250-53714c94dfc6",
   "metadata": {},
   "outputs": [
    {
     "data": {
      "text/html": [
       "<div>\n",
       "<style scoped>\n",
       "    .dataframe tbody tr th:only-of-type {\n",
       "        vertical-align: middle;\n",
       "    }\n",
       "\n",
       "    .dataframe tbody tr th {\n",
       "        vertical-align: top;\n",
       "    }\n",
       "\n",
       "    .dataframe thead th {\n",
       "        text-align: right;\n",
       "    }\n",
       "</style>\n",
       "<table border=\"1\" class=\"dataframe\">\n",
       "  <thead>\n",
       "    <tr style=\"text-align: right;\">\n",
       "      <th></th>\n",
       "      <th>config</th>\n",
       "      <th>hsfet_partnum</th>\n",
       "      <th>hs turn-on</th>\n",
       "      <th>hs turn-off</th>\n",
       "      <th>hs rdson</th>\n",
       "      <th>hs ringing</th>\n",
       "      <th>hs gate</th>\n",
       "      <th>hs fet</th>\n",
       "      <th>total</th>\n",
       "      <th>efficiency</th>\n",
       "    </tr>\n",
       "  </thead>\n",
       "  <tbody>\n",
       "    <tr>\n",
       "      <th>0</th>\n",
       "      <td>config1</td>\n",
       "      <td>AONS66408</td>\n",
       "      <td>0.001</td>\n",
       "      <td>0.826</td>\n",
       "      <td>0.300</td>\n",
       "      <td>0.025</td>\n",
       "      <td>0.087</td>\n",
       "      <td>1.1521</td>\n",
       "      <td>7.4503</td>\n",
       "      <td>0.9565</td>\n",
       "    </tr>\n",
       "    <tr>\n",
       "      <th>4</th>\n",
       "      <td>config5</td>\n",
       "      <td>BSC022N04LS6</td>\n",
       "      <td>0.003</td>\n",
       "      <td>0.964</td>\n",
       "      <td>0.208</td>\n",
       "      <td>0.024</td>\n",
       "      <td>0.066</td>\n",
       "      <td>1.1996</td>\n",
       "      <td>7.5033</td>\n",
       "      <td>0.9562</td>\n",
       "    </tr>\n",
       "    <tr>\n",
       "      <th>5</th>\n",
       "      <td>config6</td>\n",
       "      <td>ISC046N04NM5</td>\n",
       "      <td>0.009</td>\n",
       "      <td>0.774</td>\n",
       "      <td>0.404</td>\n",
       "      <td>0.033</td>\n",
       "      <td>0.042</td>\n",
       "      <td>1.2196</td>\n",
       "      <td>7.4953</td>\n",
       "      <td>0.9563</td>\n",
       "    </tr>\n",
       "    <tr>\n",
       "      <th>7</th>\n",
       "      <td>config8</td>\n",
       "      <td>SIRA74DP</td>\n",
       "      <td>0.002</td>\n",
       "      <td>0.829</td>\n",
       "      <td>0.404</td>\n",
       "      <td>0.014</td>\n",
       "      <td>0.063</td>\n",
       "      <td>1.2488</td>\n",
       "      <td>7.5957</td>\n",
       "      <td>0.9557</td>\n",
       "    </tr>\n",
       "    <tr>\n",
       "      <th>2</th>\n",
       "      <td>config3</td>\n",
       "      <td>ISC036N04NM5</td>\n",
       "      <td>0.020</td>\n",
       "      <td>0.892</td>\n",
       "      <td>0.312</td>\n",
       "      <td>0.041</td>\n",
       "      <td>0.057</td>\n",
       "      <td>1.2651</td>\n",
       "      <td>7.6164</td>\n",
       "      <td>0.9556</td>\n",
       "    </tr>\n",
       "    <tr>\n",
       "      <th>1</th>\n",
       "      <td>config2</td>\n",
       "      <td>BSC032N04LS</td>\n",
       "      <td>0.003</td>\n",
       "      <td>0.992</td>\n",
       "      <td>0.289</td>\n",
       "      <td>0.020</td>\n",
       "      <td>0.060</td>\n",
       "      <td>1.3023</td>\n",
       "      <td>7.6968</td>\n",
       "      <td>0.9552</td>\n",
       "    </tr>\n",
       "    <tr>\n",
       "      <th>3</th>\n",
       "      <td>config4</td>\n",
       "      <td>BSC059N04LS6</td>\n",
       "      <td>0.001</td>\n",
       "      <td>0.804</td>\n",
       "      <td>0.543</td>\n",
       "      <td>0.010</td>\n",
       "      <td>0.022</td>\n",
       "      <td>1.3578</td>\n",
       "      <td>7.7318</td>\n",
       "      <td>0.9550</td>\n",
       "    </tr>\n",
       "    <tr>\n",
       "      <th>6</th>\n",
       "      <td>config7</td>\n",
       "      <td>BSC059N04LSG</td>\n",
       "      <td>0.004</td>\n",
       "      <td>0.830</td>\n",
       "      <td>0.566</td>\n",
       "      <td>0.022</td>\n",
       "      <td>0.072</td>\n",
       "      <td>1.4216</td>\n",
       "      <td>7.9593</td>\n",
       "      <td>0.9537</td>\n",
       "    </tr>\n",
       "  </tbody>\n",
       "</table>\n",
       "</div>"
      ],
      "text/plain": [
       "    config hsfet_partnum  hs turn-on  hs turn-off  hs rdson  hs ringing  \\\n",
       "0  config1     AONS66408       0.001        0.826     0.300       0.025   \n",
       "4  config5  BSC022N04LS6       0.003        0.964     0.208       0.024   \n",
       "5  config6  ISC046N04NM5       0.009        0.774     0.404       0.033   \n",
       "7  config8      SIRA74DP       0.002        0.829     0.404       0.014   \n",
       "2  config3  ISC036N04NM5       0.020        0.892     0.312       0.041   \n",
       "1  config2   BSC032N04LS       0.003        0.992     0.289       0.020   \n",
       "3  config4  BSC059N04LS6       0.001        0.804     0.543       0.010   \n",
       "6  config7  BSC059N04LSG       0.004        0.830     0.566       0.022   \n",
       "\n",
       "   hs gate  hs fet   total  efficiency  \n",
       "0    0.087  1.1521  7.4503      0.9565  \n",
       "4    0.066  1.1996  7.5033      0.9562  \n",
       "5    0.042  1.2196  7.4953      0.9563  \n",
       "7    0.063  1.2488  7.5957      0.9557  \n",
       "2    0.057  1.2651  7.6164      0.9556  \n",
       "1    0.060  1.3023  7.6968      0.9552  \n",
       "3    0.022  1.3578  7.7318      0.9550  \n",
       "6    0.072  1.4216  7.9593      0.9537  "
      ]
     },
     "execution_count": 40,
     "metadata": {},
     "output_type": "execute_result"
    }
   ],
   "source": [
    "df_all.filter(concise_column_list).sort_values(by=\"hs fet\")"
   ]
  },
  {
   "cell_type": "code",
   "execution_count": null,
   "id": "e9497bee-f150-4bcc-9eab-c425d3d85a14",
   "metadata": {},
   "outputs": [],
   "source": [
    "df_all.to_csv(r'sim_results\\165W_28Vin_10Vout_multipleconfigs_100523.csv')"
   ]
  },
  {
   "cell_type": "code",
   "execution_count": null,
   "id": "87b49711-046b-4cca-9725-2bc11c74d1b5",
   "metadata": {},
   "outputs": [],
   "source": [
    "df_all"
   ]
  },
  {
   "cell_type": "code",
   "execution_count": null,
   "id": "d1e5e85b-3ea3-488f-8a73-48b46cf3ff36",
   "metadata": {},
   "outputs": [],
   "source": [
    "df = pd.DataFrame.from_dict(b_loss.p_summary| b_loss.p_totals,orient='index',columns=[b_loss.idc])\n",
    "df.T"
   ]
  },
  {
   "cell_type": "code",
   "execution_count": null,
   "id": "cc4385c8-62ae-4d79-bcf0-0304d0c83a39",
   "metadata": {},
   "outputs": [],
   "source": []
  }
 ],
 "metadata": {
  "kernelspec": {
   "display_name": "Python 3 (ipykernel)",
   "language": "python",
   "name": "python3"
  },
  "language_info": {
   "codemirror_mode": {
    "name": "ipython",
    "version": 3
   },
   "file_extension": ".py",
   "mimetype": "text/x-python",
   "name": "python",
   "nbconvert_exporter": "python",
   "pygments_lexer": "ipython3",
   "version": "3.9.13"
  }
 },
 "nbformat": 4,
 "nbformat_minor": 5
}
