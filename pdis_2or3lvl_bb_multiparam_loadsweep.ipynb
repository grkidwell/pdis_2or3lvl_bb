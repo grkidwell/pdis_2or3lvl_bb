{
 "cells": [
  {
   "cell_type": "markdown",
   "id": "839ee563-bb8a-4504-a603-c2b3d490286f",
   "metadata": {},
   "source": [
    "## 2lvl or 3lvl Buck or Buckboost Power Dissapation"
   ]
  },
  {
   "cell_type": "code",
   "execution_count": null,
   "id": "59e21e25-3a90-4497-be14-5a0052466fb6",
   "metadata": {},
   "outputs": [],
   "source": [
    "# use modified cyntec model, which simplifies input parameter dependent variables\n",
    "# added nxTON DCM calculation"
   ]
  },
  {
   "cell_type": "markdown",
   "id": "285ad67d-4133-4fc9-a259-6879ec52728f",
   "metadata": {},
   "source": [
    "#### to do:\n",
    "1. verify ciss,coss and crss models vs. datasheet graphs\n",
    "2. improve self heating of mosfets\n",
    "3. set up jupyter server for public use\n",
    "4. create gui front end\n",
    "5. add features to excel export function "
   ]
  },
  {
   "cell_type": "code",
   "execution_count": 1,
   "id": "446fc91a-4bd5-485f-8a35-81f39d2b2849",
   "metadata": {
    "tags": []
   },
   "outputs": [],
   "source": [
    "import libs.append_path\n",
    "from add_python_libraries import *\n",
    "import pd_filter_fcns\n",
    "\n",
    "from bucklosses_dcm import Buckconverter_losses\n",
    "\n",
    "from multiparam_multivar_generic import Multiparam_multivar_df as mp_mv_df"
   ]
  },
  {
   "cell_type": "markdown",
   "id": "628f436b-490d-47dc-a1c9-439d07877b4e",
   "metadata": {},
   "source": [
    "### Input Parameters "
   ]
  },
  {
   "cell_type": "code",
   "execution_count": null,
   "id": "2e322efb-b68b-484b-9296-ffd0e7f57bcd",
   "metadata": {
    "jupyter": {
     "source_hidden": true
    }
   },
   "outputs": [],
   "source": [
    "input_params = {'vin': 28,\n",
    "                'vout': 9, #9,\n",
    "                'pin': 164,\n",
    "                'eff': 1,\n",
    "                'fs':300e3, #318e3,   #839k,723k,635k carova at inductor\n",
    "                'ton_mult':1,\n",
    "                'tambient':35,\n",
    "                'controller':'raa489300',\n",
    "                'r_shunt_input':0.010,\n",
    "                'rboot':1,\n",
    "                'lout':{'family':'cmll063t', #'hbed053t', #'cmll063t', #'hbed053t', #'ihlp5050ez01', #'hbed053t',\n",
    "                        'value(uH)':0.4, #1.0,\n",
    "                        'config':'single'},\n",
    "                'lvl_config':'3 level',\n",
    "                'hsfet_partnum':'SIRA12DDP', #'SISH536DN',#'SIRA12DDP', #'RBE030N04',#'SIRA12DDP', #'SIRA74DP',#'ISC046N04NM5','SISH536DN', #'SIRA12DDP',#'SISH536DN',#'SIZ342',#'SISH536DN', #'BSZ024N04LS6',#'SISH536DN', #'ISZ0702NLS',#'SIRA74DP',#'SIRA74DP','BSC059N04LS6',#'BSZ063N04LS6',#'SIR426DP',#'SIS488DN',#'SIRA74DP',#'SIS488DN',#'AONS66408',#'AONR66406',#'SIS488DN',#'SISS4410DN',#'SISA14DN',##'SISS4410DN',#'BSC059N04LS6', #'SIS488DN''SIR426DP'\n",
    "                'lsfet_partnum':'RBE023N04',#'SIRA62DDP', #'RBE023N04',#'SIRA62DDP', #'SISS54DN', #'SIRA62DDP', #'RBE023N04',#'SIRA74DP',#'RBE023N04',#'SIRA62DDP', #'SISS54DN',#'BSZ024N04LS6',#'SISA72ADN',#'SISA72ADN',#'AONS66408',#'SISS4410DN',#'SIRA74DP', #'AONS66408',#'BSC059N04LS6',#'BSZ024N04LS6',#'SIRA74DP',\n",
    "                'q4_partnum':'AON6314', #'SHORT',#'SISS52DN',#'AON6314', #'SHORT', #'BSC020N03MSG',#'BSC020N03MSG',#'SIRA74DP',#,'AON7318',#'AONR36368',#'AON7318',#'SISA14DN',#'SISA14DN', #'SHORT', #'SISS52DN',\n",
    "                'vgate':10,\n",
    "                'm_hs':1,\n",
    "                'm_ls':1,\n",
    "                'rd':0.5,\n",
    "                'caps':{'vin'   :{'partnum':'GRM32EC72A106KE05L','n':4},\n",
    "                        'vout'  :{'partnum':'GRM32EC72A106KE05L','n':8},\n",
    "                        'flying':{'partnum':'C2012X5R1H106K125AC','n':8}}\n",
    "               }\n",
    "input_params['iout'] = input_params['pin']*input_params['eff']/input_params['vout']"
   ]
  },
  {
   "cell_type": "code",
   "execution_count": 2,
   "id": "a1e02264-37ef-4b98-bcc4-ea64f2ae856e",
   "metadata": {},
   "outputs": [],
   "source": [
    "input_params = {'vin': 28,\n",
    "                'vout': 9, #9,\n",
    "                'pin': 164,\n",
    "                'eff': 1,\n",
    "                'fs':680e3, #318e3,   #839k,723k,635k carova at inductor\n",
    "                'ton_mult':1,\n",
    "                'tambient':35,\n",
    "                'controller':'raa489110',\n",
    "                'r_shunt_input':0.010,\n",
    "                'rboot':1,\n",
    "                'lout':{'family':'ihlp5050ez01', #'hbed053t',\n",
    "                        'value(uH)':2.2,\n",
    "                        'config':'single'},\n",
    "                'lvl_config':'2 level',\n",
    "                'hsfet_partnum':'AONS66408',#'BSZ024N04LS6',#'SISH536DN', #'ISZ0702NLS',#'SIRA74DP',#'SIRA74DP','BSC059N04LS6',#'BSZ063N04LS6',#'SIR426DP',#'SIS488DN',#'SIRA74DP',#'SIS488DN',#'AONS66408',#'AONR66406',#'SIS488DN',#'SISS4410DN',#'SISA14DN',##'SISS4410DN',#'BSC059N04LS6', #'SIS488DN''SIR426DP'\n",
    "                'lsfet_partnum':'AONS66408',#'SISS52DN',#'BSZ024N04LS6',#'SISA72ADN',#'SISA72ADN',#'AONS66408',#'SISS4410DN',#'SIRA74DP', #'AONS66408',#'BSC059N04LS6',#'BSZ024N04LS6',#'SIRA74DP',\n",
    "                'q4_partnum':'AON6314',#'SHORT', #'BSC020N03MSG',#'BSC020N03MSG',#'SIRA74DP',#,'AON7318',#'AONR36368',#'AON7318',#'SISA14DN',#'SISA14DN', #'SHORT', #'SISS52DN',\n",
    "                'vgate':5,\n",
    "                'm_hs':2,\n",
    "                'm_ls':1,\n",
    "                'rd':0.5,\n",
    "                'caps':{'vin'   :{'partnum':'GRM32EC72A106KE05L','n':4},\n",
    "                        'vout'  :{'partnum':'GRM32EC72A106KE05L','n':8},\n",
    "                        'flying':{'partnum':'C2012X5R1H106K125AC','n':8}}\n",
    "               }\n",
    "input_params['iout'] = input_params['pin']*input_params['eff']/input_params['vout']"
   ]
  },
  {
   "cell_type": "markdown",
   "id": "582e2b0a-660b-498b-b9c8-01108613c661",
   "metadata": {},
   "source": [
    "## Results"
   ]
  },
  {
   "cell_type": "code",
   "execution_count": 3,
   "id": "dea7e0d0-655b-4253-8c14-d11e688a0227",
   "metadata": {},
   "outputs": [
    {
     "data": {
      "text/plain": [
       "{'hs fet': 1.0174,\n",
       " 'ls fet': 2.1282,\n",
       " 'q4 fet': 0.9336,\n",
       " 'lout': 2.6253,\n",
       " 'caps': 0.0707,\n",
       " 'ic_with_gate': 0.838,\n",
       " 'total': 9.3367,\n",
       " 'efficiency': 0.9461,\n",
       " 'Fs': 680000.0}"
      ]
     },
     "execution_count": 3,
     "metadata": {},
     "output_type": "execute_result"
    }
   ],
   "source": [
    "b_loss = Buckconverter_losses(input_params)\n",
    "b_loss.p_totals#|b_loss.p_summary"
   ]
  },
  {
   "cell_type": "code",
   "execution_count": null,
   "id": "1405dec5-d6df-4dac-804e-4549e754075a",
   "metadata": {},
   "outputs": [],
   "source": [
    "b_loss.p_summary"
   ]
  },
  {
   "cell_type": "code",
   "execution_count": null,
   "id": "2123e661-41d5-4cad-b8f0-1c502e2518ef",
   "metadata": {},
   "outputs": [],
   "source": [
    "b_loss.ls_losses_obj.fet_cap.q_oss(14)/2*14*300e3"
   ]
  },
  {
   "cell_type": "code",
   "execution_count": null,
   "id": "ef682985-971d-4ad0-91d6-69f3a3921c94",
   "metadata": {},
   "outputs": [],
   "source": [
    "b_loss.ls_losses_obj.qrr()"
   ]
  },
  {
   "cell_type": "code",
   "execution_count": null,
   "id": "c5f103ca-8c6d-4813-a982-251f792e87d1",
   "metadata": {},
   "outputs": [],
   "source": [
    "b_loss.ls_losses_obj.qrr('print')"
   ]
  },
  {
   "cell_type": "markdown",
   "id": "f8d80c82-08e4-4acd-8fd0-d0540dfa1e88",
   "metadata": {},
   "source": [
    "## Multiple Config Comparison"
   ]
  },
  {
   "cell_type": "markdown",
   "id": "fe677692-b92a-4139-adff-8a1e93b32dfe",
   "metadata": {},
   "source": [
    "### Scenario 1: Create Config Dictionary for Various Parameters"
   ]
  },
  {
   "cell_type": "code",
   "execution_count": null,
   "id": "d14782cb-fb13-43fa-a849-f71d9b423062",
   "metadata": {
    "jupyter": {
     "source_hidden": true
    }
   },
   "outputs": [],
   "source": [
    "input_config = {idx+1:new_params for idx,new_params in enumerate([    \n",
    "                {'ton_mult':0.5},    \n",
    "                {'ton_mult':1},\n",
    "                {'ton_mult':1.5},\n",
    "                {'ton_mult':2}])}\n"
   ]
  },
  {
   "cell_type": "code",
   "execution_count": 4,
   "id": "8e22badd-9a40-499b-b779-3275f6800e00",
   "metadata": {},
   "outputs": [],
   "source": [
    "input_config = {idx+1:new_params for idx,new_params in enumerate([    \n",
    "                {'lout':{'family':'ihlp5050ez01', #'hbed053t',\n",
    "                        'value(uH)':2.2,\n",
    "                        'config':'single'}},    \n",
    "                {'lout':{'family':'cmls135t', #'hbed053t',\n",
    "                        'value(uH)':2.2,\n",
    "                        'config':'single'}}])}\n"
   ]
  },
  {
   "cell_type": "code",
   "execution_count": null,
   "id": "eb0e80b3-30d3-4795-9555-e2f5504ba7fa",
   "metadata": {},
   "outputs": [],
   "source": [
    "input_config"
   ]
  },
  {
   "cell_type": "code",
   "execution_count": null,
   "id": "f829e214-c760-4dcc-857b-67c8b9ae67ba",
   "metadata": {},
   "outputs": [],
   "source": [
    "input_config = {idx+1:new_params for idx,new_params in enumerate([    \n",
    "                {'m_hs':2},    \n",
    "                {'m_hs':1}])}\n"
   ]
  },
  {
   "cell_type": "code",
   "execution_count": null,
   "id": "82e00ccc-e25f-4b0e-84a8-51a8d18238fa",
   "metadata": {},
   "outputs": [],
   "source": [
    "def mod_inp_params(inp_params,subconfig): \n",
    "    new_config = inp_params.copy()\n",
    "    for key,value in subconfig.items():\n",
    "        new_config[key]=value\n",
    "    return new_config"
   ]
  },
  {
   "cell_type": "code",
   "execution_count": null,
   "id": "451f145c-a347-4c54-aa78-04011463cb9a",
   "metadata": {},
   "outputs": [],
   "source": [
    "mod_inp_params(input_params,input_config[1])"
   ]
  },
  {
   "cell_type": "code",
   "execution_count": null,
   "id": "f0af204f-471b-466c-b6b5-d64788291310",
   "metadata": {
    "jupyter": {
     "source_hidden": true
    }
   },
   "outputs": [],
   "source": [
    "input_config = {idx+1:new_params for idx,new_params in enumerate([    \n",
    "                {'vin':28,\n",
    "                 'pin':164,\n",
    "                 'fs':300e3,\n",
    "                 'hsfet_partnum':'SISH536DN',\n",
    "                 'lsfet_partnum':'SISS54DN'},    \n",
    "                {'vin':32,\n",
    "                 'pin':159,\n",
    "                 'fs':300e3,\n",
    "                 'hsfet_partnum':'SISA72DN',\n",
    "                 'lsfet_partnum':'SIRA62DDP'},\n",
    "                {'vin':32,\n",
    "                 'pin':159,\n",
    "                 'fs':300e3,\n",
    "                 'hsfet_partnum':'SIRA74DP',\n",
    "                 'lsfet_partnum':'SIRA62DDP'}])}\n"
   ]
  },
  {
   "cell_type": "markdown",
   "id": "7c727449-9e26-4fb2-80f1-94ccc69dc6dc",
   "metadata": {},
   "source": [
    "###  Scenario 2: Setup Config Dictionary for Multiple FETs"
   ]
  },
  {
   "cell_type": "code",
   "execution_count": null,
   "id": "06c0d97e-5580-43c6-bdb2-9991aadd9952",
   "metadata": {
    "jupyter": {
     "source_hidden": true
    }
   },
   "outputs": [],
   "source": [
    "fetlist_30V_3x3 = ['SISH536DN',\n",
    " 'SIZ350',\n",
    " 'SIZ342',\n",
    " 'SISA14DN',\n",
    " 'AON7318',\n",
    " 'AONR36368',\n",
    " 'SISS66DN',\n",
    " 'SISS54DN',\n",
    " 'SISS52DN',\n",
    " 'SISA12BDN']"
   ]
  },
  {
   "cell_type": "code",
   "execution_count": null,
   "id": "ba9a83b4-314c-4a14-a904-fd3a26437965",
   "metadata": {
    "jupyter": {
     "source_hidden": true
    }
   },
   "outputs": [],
   "source": [
    "fetlist_40V_5x6 = ['AONS66408',\n",
    " 'BSC032N04LS',\n",
    " 'ISC036N04NM5',\n",
    " 'BSC059N04LS6',\n",
    " 'BSC022N04LS6',\n",
    " 'ISC046N04NM5',\n",
    " 'BSC059N04LSG',\n",
    " 'SIRA74DP',\n",
    " 'RBE023N04',\n",
    " 'RBE030N04']"
   ]
  },
  {
   "cell_type": "code",
   "execution_count": null,
   "id": "40d4e836-470e-4c1f-965a-cd340f08401c",
   "metadata": {
    "jupyter": {
     "source_hidden": true
    }
   },
   "outputs": [],
   "source": [
    "fetlist_30V_and_40V_5x6 = ['SIRA62DDP','AONS66408',\n",
    " 'BSC032N04LS',\n",
    " 'ISC036N04NM5',\n",
    " 'BSC022N04LS6',\n",
    " 'SIRA74DP',\n",
    " 'RBE023N04',\n",
    " 'RBE030N04']"
   ]
  },
  {
   "cell_type": "code",
   "execution_count": null,
   "id": "bfc91010-beee-4068-90b2-2b8ecb272387",
   "metadata": {
    "jupyter": {
     "source_hidden": true
    }
   },
   "outputs": [],
   "source": [
    "input_config = {idx+1:{'lsfet_partnum':partnum} for idx,partnum in enumerate(fetlist_30V_and_40V_5x6)}"
   ]
  },
  {
   "cell_type": "markdown",
   "id": "1de1f506-0047-400e-beb8-5397ceff0c2d",
   "metadata": {},
   "source": [
    "### Perform Pdis Calculations on Config Dictionary"
   ]
  },
  {
   "cell_type": "code",
   "execution_count": null,
   "id": "c48af56d-9abd-42df-99e3-18b81d6b205f",
   "metadata": {
    "jupyter": {
     "source_hidden": true
    }
   },
   "outputs": [],
   "source": [
    "iout = [input_params['iout']]\n",
    "var_list = {'param':'iout','values':iout}\n",
    "\n",
    "df_all = mp_mv_df(Buckconverter_losses,input_params,input_config,var_list).df\n",
    "df_all.reset_index(inplace=True)\n",
    "df_all.drop(['index'],axis=1,inplace=True)\n"
   ]
  },
  {
   "cell_type": "code",
   "execution_count": null,
   "id": "41044230-a0a5-4688-86c5-4da7e15b9cba",
   "metadata": {},
   "outputs": [],
   "source": [
    "np.arange(3,18,3).tolist()"
   ]
  },
  {
   "cell_type": "code",
   "execution_count": 5,
   "id": "b63f9739-aca6-4e3c-b1e1-e697440c0a95",
   "metadata": {},
   "outputs": [],
   "source": [
    "#iout = range(0,21,3)\n",
    "iout = np.arange(3,21,3).tolist()\n",
    "#iout[0]=0.1\n",
    "#iout = np.logspace(-1,1,num=100,base=10,endpoint=True).tolist()\n",
    "var_list = {'param':'iout','values':iout}"
   ]
  },
  {
   "cell_type": "code",
   "execution_count": 6,
   "id": "e31f35f1-d414-4eae-8ba9-d4230de3c503",
   "metadata": {},
   "outputs": [],
   "source": [
    "df_all = mp_mv_df(Buckconverter_losses,input_params,input_config,var_list)"
   ]
  },
  {
   "cell_type": "code",
   "execution_count": 10,
   "id": "20fade04-39b4-4b59-816e-e96ff4fbd1e4",
   "metadata": {},
   "outputs": [
    {
     "data": {
      "text/html": [
       "<div>\n",
       "<style scoped>\n",
       "    .dataframe tbody tr th:only-of-type {\n",
       "        vertical-align: middle;\n",
       "    }\n",
       "\n",
       "    .dataframe tbody tr th {\n",
       "        vertical-align: top;\n",
       "    }\n",
       "\n",
       "    .dataframe thead th {\n",
       "        text-align: right;\n",
       "    }\n",
       "</style>\n",
       "<table border=\"1\" class=\"dataframe\">\n",
       "  <thead>\n",
       "    <tr style=\"text-align: right;\">\n",
       "      <th></th>\n",
       "      <th>config</th>\n",
       "      <th>lout</th>\n",
       "      <th>hs turn-on</th>\n",
       "      <th>hs turn-off</th>\n",
       "      <th>hs rdson</th>\n",
       "      <th>hs ringing</th>\n",
       "      <th>hs gate</th>\n",
       "      <th>ls rdson</th>\n",
       "      <th>ls bd</th>\n",
       "      <th>ls ring_qrr</th>\n",
       "      <th>...</th>\n",
       "      <th>inp_shunt</th>\n",
       "      <th>hs fet</th>\n",
       "      <th>ls fet</th>\n",
       "      <th>q4 fet</th>\n",
       "      <th>lout</th>\n",
       "      <th>caps</th>\n",
       "      <th>ic_with_gate</th>\n",
       "      <th>total</th>\n",
       "      <th>efficiency</th>\n",
       "      <th>Fs</th>\n",
       "    </tr>\n",
       "  </thead>\n",
       "  <tbody>\n",
       "    <tr>\n",
       "      <th>3</th>\n",
       "      <td>config1</td>\n",
       "      <td>NaN</td>\n",
       "      <td>0.023</td>\n",
       "      <td>0.074</td>\n",
       "      <td>0.003</td>\n",
       "      <td>0.072</td>\n",
       "      <td>0.276</td>\n",
       "      <td>0.026</td>\n",
       "      <td>0.044</td>\n",
       "      <td>1.024</td>\n",
       "      <td>...</td>\n",
       "      <td>0.009</td>\n",
       "      <td>0.1718</td>\n",
       "      <td>1.0935</td>\n",
       "      <td>0.0291</td>\n",
       "      <td>0.7924</td>\n",
       "      <td>0.0023</td>\n",
       "      <td>0.838</td>\n",
       "      <td>3.1178</td>\n",
       "      <td>0.8965</td>\n",
       "      <td>680000.0</td>\n",
       "    </tr>\n",
       "    <tr>\n",
       "      <th>6</th>\n",
       "      <td>config1</td>\n",
       "      <td>NaN</td>\n",
       "      <td>0.092</td>\n",
       "      <td>0.128</td>\n",
       "      <td>0.011</td>\n",
       "      <td>0.085</td>\n",
       "      <td>0.276</td>\n",
       "      <td>0.092</td>\n",
       "      <td>0.092</td>\n",
       "      <td>1.024</td>\n",
       "      <td>...</td>\n",
       "      <td>0.037</td>\n",
       "      <td>0.3162</td>\n",
       "      <td>1.2073</td>\n",
       "      <td>0.1047</td>\n",
       "      <td>0.9303</td>\n",
       "      <td>0.0080</td>\n",
       "      <td>0.838</td>\n",
       "      <td>3.7966</td>\n",
       "      <td>0.9343</td>\n",
       "      <td>680000.0</td>\n",
       "    </tr>\n",
       "    <tr>\n",
       "      <th>9</th>\n",
       "      <td>config1</td>\n",
       "      <td>NaN</td>\n",
       "      <td>0.162</td>\n",
       "      <td>0.191</td>\n",
       "      <td>0.024</td>\n",
       "      <td>0.094</td>\n",
       "      <td>0.276</td>\n",
       "      <td>0.203</td>\n",
       "      <td>0.139</td>\n",
       "      <td>1.024</td>\n",
       "      <td>...</td>\n",
       "      <td>0.084</td>\n",
       "      <td>0.4707</td>\n",
       "      <td>1.3653</td>\n",
       "      <td>0.2307</td>\n",
       "      <td>1.1657</td>\n",
       "      <td>0.0175</td>\n",
       "      <td>0.838</td>\n",
       "      <td>4.7315</td>\n",
       "      <td>0.9448</td>\n",
       "      <td>680000.0</td>\n",
       "    </tr>\n",
       "    <tr>\n",
       "      <th>12</th>\n",
       "      <td>config1</td>\n",
       "      <td>NaN</td>\n",
       "      <td>0.235</td>\n",
       "      <td>0.259</td>\n",
       "      <td>0.042</td>\n",
       "      <td>0.100</td>\n",
       "      <td>0.276</td>\n",
       "      <td>0.357</td>\n",
       "      <td>0.187</td>\n",
       "      <td>1.024</td>\n",
       "      <td>...</td>\n",
       "      <td>0.149</td>\n",
       "      <td>0.6355</td>\n",
       "      <td>1.5676</td>\n",
       "      <td>0.4071</td>\n",
       "      <td>1.5077</td>\n",
       "      <td>0.0309</td>\n",
       "      <td>0.838</td>\n",
       "      <td>5.9293</td>\n",
       "      <td>0.9480</td>\n",
       "      <td>680000.0</td>\n",
       "    </tr>\n",
       "    <tr>\n",
       "      <th>15</th>\n",
       "      <td>config1</td>\n",
       "      <td>NaN</td>\n",
       "      <td>0.310</td>\n",
       "      <td>0.334</td>\n",
       "      <td>0.066</td>\n",
       "      <td>0.103</td>\n",
       "      <td>0.276</td>\n",
       "      <td>0.556</td>\n",
       "      <td>0.234</td>\n",
       "      <td>1.024</td>\n",
       "      <td>...</td>\n",
       "      <td>0.232</td>\n",
       "      <td>0.8129</td>\n",
       "      <td>1.8141</td>\n",
       "      <td>0.6339</td>\n",
       "      <td>1.9707</td>\n",
       "      <td>0.0480</td>\n",
       "      <td>0.838</td>\n",
       "      <td>7.4085</td>\n",
       "      <td>0.9480</td>\n",
       "      <td>680000.0</td>\n",
       "    </tr>\n",
       "    <tr>\n",
       "      <th>18</th>\n",
       "      <td>config1</td>\n",
       "      <td>NaN</td>\n",
       "      <td>0.389</td>\n",
       "      <td>0.414</td>\n",
       "      <td>0.095</td>\n",
       "      <td>0.106</td>\n",
       "      <td>0.276</td>\n",
       "      <td>0.800</td>\n",
       "      <td>0.281</td>\n",
       "      <td>1.024</td>\n",
       "      <td>...</td>\n",
       "      <td>0.335</td>\n",
       "      <td>1.0041</td>\n",
       "      <td>2.1049</td>\n",
       "      <td>0.9111</td>\n",
       "      <td>2.5740</td>\n",
       "      <td>0.0690</td>\n",
       "      <td>0.838</td>\n",
       "      <td>9.1951</td>\n",
       "      <td>0.9463</td>\n",
       "      <td>680000.0</td>\n",
       "    </tr>\n",
       "    <tr>\n",
       "      <th>3</th>\n",
       "      <td>config2</td>\n",
       "      <td>NaN</td>\n",
       "      <td>0.023</td>\n",
       "      <td>0.074</td>\n",
       "      <td>0.003</td>\n",
       "      <td>0.072</td>\n",
       "      <td>0.276</td>\n",
       "      <td>0.026</td>\n",
       "      <td>0.044</td>\n",
       "      <td>1.024</td>\n",
       "      <td>...</td>\n",
       "      <td>0.009</td>\n",
       "      <td>0.1718</td>\n",
       "      <td>1.0935</td>\n",
       "      <td>0.0291</td>\n",
       "      <td>0.3603</td>\n",
       "      <td>0.0023</td>\n",
       "      <td>0.838</td>\n",
       "      <td>2.6857</td>\n",
       "      <td>0.9095</td>\n",
       "      <td>680000.0</td>\n",
       "    </tr>\n",
       "    <tr>\n",
       "      <th>6</th>\n",
       "      <td>config2</td>\n",
       "      <td>NaN</td>\n",
       "      <td>0.092</td>\n",
       "      <td>0.128</td>\n",
       "      <td>0.011</td>\n",
       "      <td>0.085</td>\n",
       "      <td>0.276</td>\n",
       "      <td>0.092</td>\n",
       "      <td>0.092</td>\n",
       "      <td>1.024</td>\n",
       "      <td>...</td>\n",
       "      <td>0.037</td>\n",
       "      <td>0.3162</td>\n",
       "      <td>1.2073</td>\n",
       "      <td>0.1047</td>\n",
       "      <td>0.4914</td>\n",
       "      <td>0.0080</td>\n",
       "      <td>0.838</td>\n",
       "      <td>3.3577</td>\n",
       "      <td>0.9415</td>\n",
       "      <td>680000.0</td>\n",
       "    </tr>\n",
       "    <tr>\n",
       "      <th>9</th>\n",
       "      <td>config2</td>\n",
       "      <td>NaN</td>\n",
       "      <td>0.162</td>\n",
       "      <td>0.191</td>\n",
       "      <td>0.024</td>\n",
       "      <td>0.094</td>\n",
       "      <td>0.276</td>\n",
       "      <td>0.203</td>\n",
       "      <td>0.139</td>\n",
       "      <td>1.024</td>\n",
       "      <td>...</td>\n",
       "      <td>0.084</td>\n",
       "      <td>0.4707</td>\n",
       "      <td>1.3653</td>\n",
       "      <td>0.2307</td>\n",
       "      <td>0.7152</td>\n",
       "      <td>0.0175</td>\n",
       "      <td>0.838</td>\n",
       "      <td>4.2811</td>\n",
       "      <td>0.9498</td>\n",
       "      <td>680000.0</td>\n",
       "    </tr>\n",
       "    <tr>\n",
       "      <th>12</th>\n",
       "      <td>config2</td>\n",
       "      <td>NaN</td>\n",
       "      <td>0.235</td>\n",
       "      <td>0.259</td>\n",
       "      <td>0.042</td>\n",
       "      <td>0.100</td>\n",
       "      <td>0.276</td>\n",
       "      <td>0.357</td>\n",
       "      <td>0.187</td>\n",
       "      <td>1.024</td>\n",
       "      <td>...</td>\n",
       "      <td>0.149</td>\n",
       "      <td>0.6355</td>\n",
       "      <td>1.5676</td>\n",
       "      <td>0.4071</td>\n",
       "      <td>1.0406</td>\n",
       "      <td>0.0309</td>\n",
       "      <td>0.838</td>\n",
       "      <td>5.4622</td>\n",
       "      <td>0.9519</td>\n",
       "      <td>680000.0</td>\n",
       "    </tr>\n",
       "    <tr>\n",
       "      <th>15</th>\n",
       "      <td>config2</td>\n",
       "      <td>NaN</td>\n",
       "      <td>0.310</td>\n",
       "      <td>0.334</td>\n",
       "      <td>0.066</td>\n",
       "      <td>0.103</td>\n",
       "      <td>0.276</td>\n",
       "      <td>0.556</td>\n",
       "      <td>0.234</td>\n",
       "      <td>1.024</td>\n",
       "      <td>...</td>\n",
       "      <td>0.232</td>\n",
       "      <td>0.8129</td>\n",
       "      <td>1.8141</td>\n",
       "      <td>0.6339</td>\n",
       "      <td>1.4808</td>\n",
       "      <td>0.0480</td>\n",
       "      <td>0.838</td>\n",
       "      <td>6.9186</td>\n",
       "      <td>0.9512</td>\n",
       "      <td>680000.0</td>\n",
       "    </tr>\n",
       "    <tr>\n",
       "      <th>18</th>\n",
       "      <td>config2</td>\n",
       "      <td>NaN</td>\n",
       "      <td>0.389</td>\n",
       "      <td>0.414</td>\n",
       "      <td>0.095</td>\n",
       "      <td>0.106</td>\n",
       "      <td>0.276</td>\n",
       "      <td>0.800</td>\n",
       "      <td>0.281</td>\n",
       "      <td>1.024</td>\n",
       "      <td>...</td>\n",
       "      <td>0.335</td>\n",
       "      <td>1.0041</td>\n",
       "      <td>2.1049</td>\n",
       "      <td>0.9111</td>\n",
       "      <td>2.0552</td>\n",
       "      <td>0.0690</td>\n",
       "      <td>0.838</td>\n",
       "      <td>8.6763</td>\n",
       "      <td>0.9492</td>\n",
       "      <td>680000.0</td>\n",
       "    </tr>\n",
       "  </tbody>\n",
       "</table>\n",
       "<p>12 rows × 28 columns</p>\n",
       "</div>"
      ],
      "text/plain": [
       "     config  lout  hs turn-on  hs turn-off  hs rdson  hs ringing  hs gate  \\\n",
       "3   config1   NaN       0.023        0.074     0.003       0.072    0.276   \n",
       "6   config1   NaN       0.092        0.128     0.011       0.085    0.276   \n",
       "9   config1   NaN       0.162        0.191     0.024       0.094    0.276   \n",
       "12  config1   NaN       0.235        0.259     0.042       0.100    0.276   \n",
       "15  config1   NaN       0.310        0.334     0.066       0.103    0.276   \n",
       "18  config1   NaN       0.389        0.414     0.095       0.106    0.276   \n",
       "3   config2   NaN       0.023        0.074     0.003       0.072    0.276   \n",
       "6   config2   NaN       0.092        0.128     0.011       0.085    0.276   \n",
       "9   config2   NaN       0.162        0.191     0.024       0.094    0.276   \n",
       "12  config2   NaN       0.235        0.259     0.042       0.100    0.276   \n",
       "15  config2   NaN       0.310        0.334     0.066       0.103    0.276   \n",
       "18  config2   NaN       0.389        0.414     0.095       0.106    0.276   \n",
       "\n",
       "    ls rdson  ls bd  ls ring_qrr  ...  inp_shunt  hs fet  ls fet  q4 fet  \\\n",
       "3      0.026  0.044        1.024  ...      0.009  0.1718  1.0935  0.0291   \n",
       "6      0.092  0.092        1.024  ...      0.037  0.3162  1.2073  0.1047   \n",
       "9      0.203  0.139        1.024  ...      0.084  0.4707  1.3653  0.2307   \n",
       "12     0.357  0.187        1.024  ...      0.149  0.6355  1.5676  0.4071   \n",
       "15     0.556  0.234        1.024  ...      0.232  0.8129  1.8141  0.6339   \n",
       "18     0.800  0.281        1.024  ...      0.335  1.0041  2.1049  0.9111   \n",
       "3      0.026  0.044        1.024  ...      0.009  0.1718  1.0935  0.0291   \n",
       "6      0.092  0.092        1.024  ...      0.037  0.3162  1.2073  0.1047   \n",
       "9      0.203  0.139        1.024  ...      0.084  0.4707  1.3653  0.2307   \n",
       "12     0.357  0.187        1.024  ...      0.149  0.6355  1.5676  0.4071   \n",
       "15     0.556  0.234        1.024  ...      0.232  0.8129  1.8141  0.6339   \n",
       "18     0.800  0.281        1.024  ...      0.335  1.0041  2.1049  0.9111   \n",
       "\n",
       "      lout    caps  ic_with_gate   total  efficiency        Fs  \n",
       "3   0.7924  0.0023         0.838  3.1178      0.8965  680000.0  \n",
       "6   0.9303  0.0080         0.838  3.7966      0.9343  680000.0  \n",
       "9   1.1657  0.0175         0.838  4.7315      0.9448  680000.0  \n",
       "12  1.5077  0.0309         0.838  5.9293      0.9480  680000.0  \n",
       "15  1.9707  0.0480         0.838  7.4085      0.9480  680000.0  \n",
       "18  2.5740  0.0690         0.838  9.1951      0.9463  680000.0  \n",
       "3   0.3603  0.0023         0.838  2.6857      0.9095  680000.0  \n",
       "6   0.4914  0.0080         0.838  3.3577      0.9415  680000.0  \n",
       "9   0.7152  0.0175         0.838  4.2811      0.9498  680000.0  \n",
       "12  1.0406  0.0309         0.838  5.4622      0.9519  680000.0  \n",
       "15  1.4808  0.0480         0.838  6.9186      0.9512  680000.0  \n",
       "18  2.0552  0.0690         0.838  8.6763      0.9492  680000.0  \n",
       "\n",
       "[12 rows x 28 columns]"
      ]
     },
     "execution_count": 10,
     "metadata": {},
     "output_type": "execute_result"
    }
   ],
   "source": [
    "df_all.df"
   ]
  },
  {
   "cell_type": "code",
   "execution_count": 7,
   "id": "4468d8c0-95e9-4c7b-97b5-5ea578b996e0",
   "metadata": {},
   "outputs": [
    {
     "data": {
      "image/png": "[encoded data removed]",
      "text/plain": [
       "<Figure size 640x480 with 1 Axes>"
      ]
     },
     "metadata": {},
     "output_type": "display_data"
    }
   ],
   "source": [
    "df_all.parametric_plot('efficiency')"
   ]
  },
  {
   "cell_type": "code",
   "execution_count": 8,
   "id": "3fa445f6-5205-48ea-a9ed-bcd1de72da26",
   "metadata": {},
   "outputs": [
    {
     "data": {
      "image/png": "[encoded data removed]",
      "text/plain": [
       "<Figure size 640x480 with 1 Axes>"
      ]
     },
     "metadata": {},
     "output_type": "display_data"
    }
   ],
   "source": [
    "df_all.parametric_plot('total')"
   ]
  },
  {
   "cell_type": "markdown",
   "id": "974212da-c652-4aff-a5f2-858a5e989030",
   "metadata": {},
   "source": [
    "### Determine Which Parameters (Columns) are to be displayed in the Comparison"
   ]
  },
  {
   "cell_type": "code",
   "execution_count": null,
   "id": "75c9093d-bdf4-49a1-9ec9-0f7f4104dcfa",
   "metadata": {},
   "outputs": [],
   "source": [
    "df_all.columns"
   ]
  },
  {
   "cell_type": "code",
   "execution_count": null,
   "id": "e4250e4a-2e4d-4233-91ec-935a8e7b327d",
   "metadata": {},
   "outputs": [],
   "source": [
    "input_config_params = list(input_config[1].keys())\n",
    "#column_strings = \n",
    "lsfet = [param for param in df_all.columns if 'ls ' in param]\n",
    "hsfet = [param for param in df_all.columns if 'hs ' in param]\n",
    "lout = [param for param in df_all.columns if 'lout' in param]\n",
    "\n",
    "xtra_columns = lsfet #+ ['ls fet'] + lout #hsfet# + lsfet\n",
    "concise_column_list = ['config'] + input_config_params + xtra_columns +['total','efficiency']"
   ]
  },
  {
   "cell_type": "markdown",
   "id": "9f25240e-de64-464e-9680-524e6249c135",
   "metadata": {},
   "source": [
    "### Result"
   ]
  },
  {
   "cell_type": "code",
   "execution_count": null,
   "id": "ce26e33b-1ef7-4661-9250-53714c94dfc6",
   "metadata": {},
   "outputs": [],
   "source": [
    "df_all.filter(concise_column_list).sort_values(by=\"total\") #\"ls fet\")"
   ]
  },
  {
   "cell_type": "code",
   "execution_count": null,
   "id": "e9497bee-f150-4bcc-9eab-c425d3d85a14",
   "metadata": {},
   "outputs": [],
   "source": [
    "df_all.to_csv(r'sim_results\\165W_28Vin_9Vout_multiple_ls_FETs_051325.csv')"
   ]
  },
  {
   "cell_type": "code",
   "execution_count": null,
   "id": "d1e5e85b-3ea3-488f-8a73-48b46cf3ff36",
   "metadata": {},
   "outputs": [],
   "source": [
    "df = pd.DataFrame.from_dict(b_loss.p_summary| b_loss.p_totals,orient='index',columns=[b_loss.idc])\n",
    "df.T"
   ]
  },
  {
   "cell_type": "code",
   "execution_count": null,
   "id": "cc4385c8-62ae-4d79-bcf0-0304d0c83a39",
   "metadata": {},
   "outputs": [],
   "source": []
  }
 ],
 "metadata": {
  "kernelspec": {
   "display_name": "Python 3 (ipykernel)",
   "language": "python",
   "name": "python3"
  },
  "language_info": {
   "codemirror_mode": {
    "name": "ipython",
    "version": 3
   },
   "file_extension": ".py",
   "mimetype": "text/x-python",
   "name": "python",
   "nbconvert_exporter": "python",
   "pygments_lexer": "ipython3",
   "version": "3.9.13"
  }
 },
 "nbformat": 4,
 "nbformat_minor": 5
}
