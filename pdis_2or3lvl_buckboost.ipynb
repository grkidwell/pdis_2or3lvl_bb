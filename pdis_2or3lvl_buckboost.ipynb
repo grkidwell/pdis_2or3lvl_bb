{
 "cells": [
  {
   "cell_type": "markdown",
   "id": "839ee563-bb8a-4504-a603-c2b3d490286f",
   "metadata": {},
   "source": [
    "## 2lvl or 3lvl Buck or Buckboost Power Dissapation"
   ]
  },
  {
   "cell_type": "markdown",
   "id": "285ad67d-4133-4fc9-a259-6879ec52728f",
   "metadata": {},
   "source": [
    "#### to do:\n",
    "-change mosfet.Fet_cap_vs_vds.cgd_0V back\n",
    "-change mosfet.Fet_cap_vs_vds.c_gs back"
   ]
  },
  {
   "cell_type": "code",
   "execution_count": 1,
   "id": "446fc91a-4bd5-485f-8a35-81f39d2b2849",
   "metadata": {},
   "outputs": [],
   "source": [
    "import libs.append_path\n",
    "\n",
    "# from circuit_4state import circuit_params as circuit_params_4state\n",
    "# from circuit_2state import circuit_params as circuit_params_2state\n",
    "# from controller import get_ic_params\n",
    "# from cyntec import Inductor_pdis, create_ind_family_df, ind_pdis_obj, l_set, cyntec_filename\n",
    "# import mosfet_hs\n",
    "# import mosfet_ls # import get_fet_params, Fet_cap_vs_vds, Fet_switching_on, Fet_switching_off, Losses\n",
    "# from unit_waveforms_turnon import Four_state\n",
    "# from capacitors import Caplosses\n",
    "#from board import p_cu\n",
    "\n",
    "import pd_filter_fcns\n",
    "\n",
    "from bucklosses_dcm import Buckconverter_losses"
   ]
  },
  {
   "cell_type": "markdown",
   "id": "628f436b-490d-47dc-a1c9-439d07877b4e",
   "metadata": {},
   "source": [
    "### Input Parameters"
   ]
  },
  {
   "cell_type": "code",
   "execution_count": null,
   "id": "88d6e8f5-0561-4852-aa04-53149e3b38a2",
   "metadata": {},
   "outputs": [],
   "source": [
    "input_params = {'vin': 13.2,\n",
    "                'vout': 5,\n",
    "                'pin': 5*16, \n",
    "                'eff': 1,\n",
    "                'fs':375e3,\n",
    "                'tambient':65,\n",
    "                'controller':'raa489300',\n",
    "                'lout':{'family':'cmll063t',\n",
    "                        'value(uH)':0.4,\n",
    "                        'config':'single'},\n",
    "                'lvl_config':'3 level',\n",
    "                'hsfet_partnum':'SISH536DN',\n",
    "                'lsfet_partnum':'SISS52DN',\n",
    "                'vgate':5,\n",
    "                'm_hs':1,\n",
    "                'm_ls':1,\n",
    "                'rd':0.5,\n",
    "                'caps':{'vin'   :{'partnum':'GRM188C81C106MA73','n':4},\n",
    "                        'vout'  :{'partnum':'GRM155C80J106ME11D','n':10},\n",
    "                        'flying':{'partnum':'GRM188C81C106MA73','n':4}}\n",
    "               }\n",
    "input_params['iout'] = input_params['pin']*input_params['eff']/input_params['vout']"
   ]
  },
  {
   "cell_type": "code",
   "execution_count": null,
   "id": "aa63d643-5b41-4eba-977c-a9daa1d6ee5e",
   "metadata": {},
   "outputs": [],
   "source": [
    "input_params = {'vin': 48,\n",
    "                'vout': 20,\n",
    "                'pin': 241,\n",
    "                'eff': 1,\n",
    "                'fs':315e3,\n",
    "                'tambient':45,\n",
    "                'controller':'raa489300',\n",
    "                'lout':{'family':'hbed053t',\n",
    "                        'value(uH)':1.0,\n",
    "                        'config':'single'},\n",
    "                'lvl_config':'3 level',\n",
    "                'hsfet_partnum':'ISZ0702NLS',\n",
    "                'lsfet_partnum':'BSZ024N04LS6',\n",
    "                'q4_partnum':'SHORT',\n",
    "                'vgate':10,\n",
    "                'm_hs':1,\n",
    "                'm_ls':1,\n",
    "                'rd':0.5,\n",
    "                'caps':{'vin'   :{'partnum':'GRM32EC72A106KE05L','n':4},\n",
    "                        'vout'  :{'partnum':'GRM32EC72A106KE05L','n':8},\n",
    "                        'flying':{'partnum':'C2012X5R1H106K125AC','n':8}}\n",
    "               }\n",
    "input_params['iout'] = input_params['pin']*input_params['eff']/input_params['vout']"
   ]
  },
  {
   "cell_type": "code",
   "execution_count": 2,
   "id": "623190ff-3375-4ee1-881b-eae59f01a7c5",
   "metadata": {},
   "outputs": [],
   "source": [
    "input_params = {'vin': 28,\n",
    "                'vout': 10,\n",
    "                'pin': 140,\n",
    "                'eff': .95,\n",
    "                'fs':600e3,\n",
    "                'tambient':45,\n",
    "                'controller':'raa489110',\n",
    "                'r_shunt_input':0.005,\n",
    "                'lout':{'family':'hbed063t',\n",
    "                        'value(uH)':2.2,\n",
    "                        'config':'parallel'},\n",
    "                'lvl_config':'2 level',\n",
    "                'hsfet_partnum':'SIRA74DP',#'AONR66406',#'SIS488DN',#'SISS4410DN',#'SISA14DN',##'SISS4410DN',#'BSC059N04LS6', #'SIS488DN''SIR426DP'\n",
    "                'lsfet_partnum':'SIRA74DP',#'SISA72ADN',#'AONS66408',#'SISS4410DN',#'SIRA74DP', #'AONS66408',#'BSC059N04LS6',#'BSZ024N04LS6',#'SIRA74DP',\n",
    "                'q4_partnum':'AON7318',#'SISA14DN',#'SISA14DN', #'SHORT', #'SISS52DN',\n",
    "                'vgate':5,\n",
    "                'm_hs':1,\n",
    "                'm_ls':1,\n",
    "                'rd':0.5,\n",
    "                'caps':{'vin'   :{'partnum':'GRM32EC72A106KE05L','n':4},\n",
    "                        'vout'  :{'partnum':'GRM32EC72A106KE05L','n':8},\n",
    "                        'flying':{'partnum':'C2012X5R1H106K125AC','n':8}}\n",
    "               }\n",
    "input_params['iout'] = input_params['pin']*input_params['eff']/input_params['vout']"
   ]
  },
  {
   "cell_type": "code",
   "execution_count": null,
   "id": "d04b713c-2330-45b2-926e-eeb8d8af24c2",
   "metadata": {},
   "outputs": [],
   "source": []
  },
  {
   "cell_type": "markdown",
   "id": "2405a9cc-994e-40d4-8130-b58697b39117",
   "metadata": {},
   "source": [
    "## Need to add \n",
    "1. input shunt conduction losses\n",
    "2. self heating mosfets"
   ]
  },
  {
   "cell_type": "code",
   "execution_count": 3,
   "id": "dea7e0d0-655b-4253-8c14-d11e688a0227",
   "metadata": {
    "scrolled": true
   },
   "outputs": [
    {
     "data": {
      "text/plain": [
       "{'hs fet': 2.427,\n",
       " 'ls fet': 0.965,\n",
       " 'q4 fet': 0.484,\n",
       " 'lout': 1.001,\n",
       " 'caps': 0.125,\n",
       " 'ic_with_gate': 0.218,\n",
       " 'total': 6.386,\n",
       " 'efficiency': 0.954,\n",
       " 'hs turn-on': 0.468,\n",
       " 'hs turn-off': 1.567,\n",
       " 'hs rdson': 0.353,\n",
       " 'hs ringing': 0.038,\n",
       " 'hs gate': 0.104,\n",
       " 'ls rdson': 0.636,\n",
       " 'ls bd': 0.194,\n",
       " 'ls qrr': 0.136,\n",
       " 'ls gate': 0.104,\n",
       " 'q4_rdson': 0.484,\n",
       " 'lout rdc+rac': 0.579,\n",
       " 'lout core': 0.422,\n",
       " 'flying cap': 0.0,\n",
       " 'input cap': 0.124,\n",
       " 'board cu': 0.051,\n",
       " 'ic': 0.01,\n",
       " 'inp_shunt': 0.113}"
      ]
     },
     "execution_count": 3,
     "metadata": {},
     "output_type": "execute_result"
    }
   ],
   "source": [
    "b_loss = Buckconverter_losses(input_params)\n",
    "b_loss.p_totals|b_loss.p_summary"
   ]
  },
  {
   "cell_type": "code",
   "execution_count": null,
   "id": "a7be7a11-45d5-4386-b886-ea92206bfb55",
   "metadata": {},
   "outputs": [],
   "source": [
    "descr=b_loss.p_totals.keys()\n",
    "pdis=b_loss.p_totals.values()"
   ]
  },
  {
   "cell_type": "code",
   "execution_count": null,
   "id": "da61dcfd-8e70-4e58-91f2-99567aba17bf",
   "metadata": {},
   "outputs": [],
   "source": [
    "df=pd.DataFrame.from_dict(b_loss.p_totals,orient='index',columns=['pdis'])\n",
    "df"
   ]
  },
  {
   "cell_type": "code",
   "execution_count": null,
   "id": "5832558a-c265-4f4e-8200-a39a89a54c61",
   "metadata": {},
   "outputs": [],
   "source": [
    "fig=px.bar(df,orientation='h')\n",
    "fig.show()"
   ]
  },
  {
   "cell_type": "code",
   "execution_count": null,
   "id": "e3f3af64-8e53-4d03-803c-7d0667039398",
   "metadata": {},
   "outputs": [],
   "source": [
    "df=pd.DataFrame.from_dict(b_loss.p_summary,orient='index',columns=['pdis'])\n",
    "fig=px.bar(df,orientation='h')\n",
    "fig.show()"
   ]
  },
  {
   "cell_type": "markdown",
   "id": "5e067723-a3be-4d3d-95d7-2540de1b20ef",
   "metadata": {},
   "source": [
    "## TO DO:  "
   ]
  },
  {
   "cell_type": "code",
   "execution_count": null,
   "id": "b44c9355-f5aa-451e-b252-eac4dac3e26f",
   "metadata": {},
   "outputs": [],
   "source": [
    "idx = df.index\n",
    "val = df['pdis'].values\n",
    "val_rev = np.flip(val)"
   ]
  },
  {
   "cell_type": "code",
   "execution_count": null,
   "id": "69cb6976-f917-4c98-8063-99cd40147dd9",
   "metadata": {},
   "outputs": [],
   "source": [
    "fig = make_subplots(\n",
    "    rows=1,cols=2,\n",
    "    column_widths=[.27,.73],\n",
    "    horizontal_spacing = .04,\n",
    "    specs=[[{\"type\":\"table\"},{\"type\":\"bar\"}]]\n",
    ")\n",
    "fig.add_trace(\n",
    "    go.Table(\n",
    "        header = dict(\n",
    "            values=[' ',' '],\n",
    "            height=1,\n",
    "            font=dict(size=30)\n",
    "        ),\n",
    "        # header = dict(\n",
    "        #     values = ['index','value'],\n",
    "        #     font=dict(size=20),\n",
    "        #     align=\"left\"\n",
    "        # ),\n",
    "        cells = dict(\n",
    "            values = [idx,val],\n",
    "            font=dict(size=20),\n",
    "            height=31,\n",
    "            align=\"left\"\n",
    "        )\n",
    "        \n",
    "    ),\n",
    "    \n",
    "    row=1,col=1\n",
    ")\n",
    "fig.add_trace(\n",
    "    go.Bar(\n",
    "        x=val_rev,\n",
    "        orientation='h'\n",
    "    ),\n",
    "    row=1,col=2\n",
    ")\n",
    "fig.update_layout(\n",
    "    height=650,\n",
    "    showlegend=False,\n",
    "    title_text=\"Power Loss by Component\",\n",
    ")\n",
    "\n",
    "fig.show()"
   ]
  },
  {
   "cell_type": "code",
   "execution_count": null,
   "id": "0ffdebd4-87f3-46f8-835e-02c5e1915b72",
   "metadata": {},
   "outputs": [],
   "source": [
    "b_loss.p_summary|b_loss.p_totals"
   ]
  },
  {
   "cell_type": "code",
   "execution_count": null,
   "id": "d80f74d7-90f8-432c-8941-f70bddc7728b",
   "metadata": {},
   "outputs": [],
   "source": [
    "var = {'param':'iout','value':17}"
   ]
  },
  {
   "cell_type": "code",
   "execution_count": null,
   "id": "50e240e0-feb0-4cc2-ad6c-057555d143bd",
   "metadata": {},
   "outputs": [],
   "source": [
    "def b_obj_var(inp_params:dict,variable:dict):\n",
    "    p = inp_params\n",
    "    p[variable['param']] = variable['value']\n",
    "    return Buckconverter_losses(p) \n",
    "\n",
    "def df_var(inp_params,variable:dict):\n",
    "    b_obj = b_obj_var(inp_params,variable)\n",
    "    return pd.DataFrame.from_dict(b_obj.p_summary| b_obj.p_totals,orient='index',columns=[variable['value']]).T"
   ]
  },
  {
   "cell_type": "code",
   "execution_count": null,
   "id": "c1a4b573-0192-4470-b3e4-8408bb5203e4",
   "metadata": {},
   "outputs": [],
   "source": [
    "def df_var_list(inp_params:dict,varlist:dict):\n",
    "    param = varlist['param']\n",
    "    value_list = varlist['values']\n",
    "    return [df_var(inp_params,{'param':param,'value':value}) for value in value_list]"
   ]
  },
  {
   "cell_type": "code",
   "execution_count": null,
   "id": "a705b66b-a19e-4d31-a68d-28a77096d413",
   "metadata": {},
   "outputs": [],
   "source": [
    "def mod_inp_params(inp_params,subconfig):\n",
    "    new_config = inp_params.copy()\n",
    "    for key,value in subconfig.items():\n",
    "        new_config[key]=value\n",
    "    return new_config"
   ]
  },
  {
   "cell_type": "code",
   "execution_count": null,
   "id": "119420a2-4e1b-455a-ae82-39070e28766a",
   "metadata": {},
   "outputs": [],
   "source": [
    "config1 = {'fs':715e3,\n",
    "           'lout':{'family':'hbed053t',\n",
    "                        'value(uH)':0.68,\n",
    "                        'config':'series'},\n",
    "           'hsfet_partnum':'AONS66408',\n",
    "           'lsfet_partnum':'AONS66408',\n",
    "           'q4_partnum':'AONR36368',\n",
    "           'm_hs':2,\n",
    "           'm_ls':1,}"
   ]
  },
  {
   "cell_type": "code",
   "execution_count": null,
   "id": "1920279b-ce9c-4a70-98bd-546690e55b61",
   "metadata": {},
   "outputs": [],
   "source": [
    "config2 = {'fs':715e3,\n",
    "           'lout':{'family':'hbed053t',\n",
    "                        'value(uH)':0.68,\n",
    "                        'config':'series'},\n",
    "           'hsfet_partnum':'SIRA74DP',\n",
    "           'lsfet_partnum':'SIRA74DP',\n",
    "           'q4_partnum':'SIRA74DP',\n",
    "           'm_hs':1,\n",
    "           'm_ls':1,}"
   ]
  },
  {
   "cell_type": "code",
   "execution_count": null,
   "id": "a083a2a7-2a18-4cce-a289-e5da6d9e4b8a",
   "metadata": {},
   "outputs": [],
   "source": [
    "config3 = {'fs':715e3,\n",
    "           'lout':{'family':'hbed063t',\n",
    "                        'value(uH)':2.2,\n",
    "                        'config':'parallel'},\n",
    "           'hsfet_partnum':'SIRA74DP',\n",
    "           'lsfet_partnum':'SIRA74DP',\n",
    "           'q4_partnum':'SIRA74DP',\n",
    "           'm_hs':1,\n",
    "           'm_ls':1,}"
   ]
  },
  {
   "cell_type": "code",
   "execution_count": null,
   "id": "11a627bb-aa54-4086-9734-bbfc32c1fca1",
   "metadata": {},
   "outputs": [],
   "source": [
    "config4 = {'fs':600e3,\n",
    "           'lout':{'family':'hbed063t',\n",
    "                        'value(uH)':2.2,\n",
    "                        'config':'parallel'},\n",
    "           'hsfet_partnum':'SIS488DN',\n",
    "           'lsfet_partnum':'SISA72ADN',\n",
    "           'q4_partnum':'AON7318',\n",
    "           'm_hs':2,\n",
    "           'm_ls':2,}"
   ]
  },
  {
   "cell_type": "code",
   "execution_count": null,
   "id": "879ae89d-4220-4ef1-b590-08222f040a6a",
   "metadata": {},
   "outputs": [],
   "source": [
    "config5 = {'fs':600e3,\n",
    "           'lout':{'family':'hbed063t',\n",
    "                        'value(uH)':2.2,\n",
    "                        'config':'parallel'},\n",
    "           'hsfet_partnum':'SISS4410DN',\n",
    "           'lsfet_partnum':'SISA72ADN',\n",
    "           'q4_partnum':'AON7318',\n",
    "           'm_hs':2,\n",
    "           'm_ls':2,}"
   ]
  },
  {
   "cell_type": "code",
   "execution_count": null,
   "id": "874dbe09-bce9-4004-a6cf-b99e39331d44",
   "metadata": {},
   "outputs": [],
   "source": [
    "\n",
    "new_params1 = mod_inp_params(input_params,config1)\n",
    "new_params2 = mod_inp_params(input_params,config2)\n",
    "new_params3 = mod_inp_params(input_params,config3)\n",
    "new_params4 = mod_inp_params(input_params,config4)\n",
    "new_params5 = mod_inp_params(input_params,config5)"
   ]
  },
  {
   "cell_type": "code",
   "execution_count": null,
   "id": "159c6354-3b4e-4153-943a-3e1b06a6200c",
   "metadata": {},
   "outputs": [],
   "source": [
    "iout = range(0,15,1)\n",
    "var_list = {'param':'iout','values':iout}"
   ]
  },
  {
   "cell_type": "code",
   "execution_count": null,
   "id": "624950d2-3509-4ba1-8334-77cc306f99dd",
   "metadata": {},
   "outputs": [],
   "source": [
    "df1=pd.concat(df_var_list(new_params1,var_list))\n",
    "df2=pd.concat(df_var_list(new_params2,var_list))\n",
    "df3=pd.concat(df_var_list(new_params3,var_list))\n",
    "df4=pd.concat(df_var_list(new_params4,var_list))\n",
    "df5=pd.concat(df_var_list(new_params5,var_list))"
   ]
  },
  {
   "cell_type": "code",
   "execution_count": null,
   "id": "90b9d20a-c21c-47e5-9dda-8d239aa48809",
   "metadata": {},
   "outputs": [],
   "source": [
    "df1['config']='config1'\n",
    "df2['config']='config2'\n",
    "df3['config']='config3'\n",
    "df4['config']='config4'\n",
    "df5['config']='config5'"
   ]
  },
  {
   "cell_type": "code",
   "execution_count": null,
   "id": "273c8345-17b1-47a9-8093-111e40e7c71d",
   "metadata": {},
   "outputs": [],
   "source": []
  },
  {
   "cell_type": "code",
   "execution_count": null,
   "id": "5fbd6aa0-8db1-4420-a7c2-7cf3183a1d35",
   "metadata": {},
   "outputs": [],
   "source": [
    "df_all=pd.concat([df1,df2,df3,df4,df5])"
   ]
  },
  {
   "cell_type": "code",
   "execution_count": null,
   "id": "98e52639-e7ee-4ffd-8df0-e83dd6051f69",
   "metadata": {},
   "outputs": [],
   "source": [
    "df_all"
   ]
  },
  {
   "cell_type": "code",
   "execution_count": null,
   "id": "8448df16-ceee-4015-b836-225148117423",
   "metadata": {},
   "outputs": [],
   "source": [
    "#df['total'].plot.line()\n",
    "df_all.drop([0]).groupby('config')['efficiency'].plot(legend=True)"
   ]
  },
  {
   "cell_type": "code",
   "execution_count": null,
   "id": "2fb25ddd-fa4a-4154-8ccd-905276297b7b",
   "metadata": {},
   "outputs": [],
   "source": [
    "#df['total'].plot.line()\n",
    "df_all.groupby('config')['total'].plot(legend=True)"
   ]
  },
  {
   "cell_type": "code",
   "execution_count": null,
   "id": "e9497bee-f150-4bcc-9eab-c425d3d85a14",
   "metadata": {},
   "outputs": [],
   "source": [
    "df_all.to_csv(r'sim_results\\140W_28Vin_10Vout_multipleconfigs_100523.csv')"
   ]
  },
  {
   "cell_type": "code",
   "execution_count": null,
   "id": "237b136f-113f-4126-928f-e84ab85057ea",
   "metadata": {},
   "outputs": [],
   "source": [
    "duh.p_totals"
   ]
  },
  {
   "cell_type": "code",
   "execution_count": null,
   "id": "ccf174a7-2309-4ca4-a702-b1faf4498dff",
   "metadata": {},
   "outputs": [],
   "source": [
    "b_loss.p_summary"
   ]
  },
  {
   "cell_type": "code",
   "execution_count": null,
   "id": "9f64d31f-ed2b-4a1f-b0da-9383c9d23176",
   "metadata": {},
   "outputs": [],
   "source": [
    "b_loss.p_totals,b_loss.efficiency"
   ]
  },
  {
   "cell_type": "code",
   "execution_count": null,
   "id": "451b15b3-5c5d-4934-917a-f17010d3f44e",
   "metadata": {},
   "outputs": [],
   "source": [
    "b_loss.p_summary | b_loss.p_totals"
   ]
  },
  {
   "cell_type": "code",
   "execution_count": null,
   "id": "d1e5e85b-3ea3-488f-8a73-48b46cf3ff36",
   "metadata": {},
   "outputs": [],
   "source": [
    "df = pd.DataFrame.from_dict(b_loss.p_summary| b_loss.p_totals,orient='index',columns=[b_loss.idc])\n",
    "df.T"
   ]
  }
 ],
 "metadata": {
  "kernelspec": {
   "display_name": "Python 3 (ipykernel)",
   "language": "python",
   "name": "python3"
  },
  "language_info": {
   "codemirror_mode": {
    "name": "ipython",
    "version": 3
   },
   "file_extension": ".py",
   "mimetype": "text/x-python",
   "name": "python",
   "nbconvert_exporter": "python",
   "pygments_lexer": "ipython3",
   "version": "3.9.13"
  }
 },
 "nbformat": 4,
 "nbformat_minor": 5
}
