{
 "cells": [
  {
   "cell_type": "markdown",
   "id": "839ee563-bb8a-4504-a603-c2b3d490286f",
   "metadata": {},
   "source": [
    "## 2lvl or 3lvl Buck or Buckboost Power Dissapation"
   ]
  },
  {
   "cell_type": "code",
   "execution_count": null,
   "id": "59e21e25-3a90-4497-be14-5a0052466fb6",
   "metadata": {},
   "outputs": [],
   "source": [
    "# use modified cyntec model, which simplifies input parameter dependent variables\n",
    "# added nxTON DCM calculation"
   ]
  },
  {
   "cell_type": "markdown",
   "id": "285ad67d-4133-4fc9-a259-6879ec52728f",
   "metadata": {},
   "source": [
    "#### to do:\n",
    "1. verify ciss,coss and crss models vs. datasheet graphs\n",
    "2. add self heating to mosfets\n",
    "3. set up jupyter server for public use\n",
    "4. create gui front end\n",
    "5. add features to excel export function "
   ]
  },
  {
   "cell_type": "code",
   "execution_count": 1,
   "id": "446fc91a-4bd5-485f-8a35-81f39d2b2849",
   "metadata": {
    "tags": []
   },
   "outputs": [],
   "source": [
    "import libs.append_path\n",
    "from add_python_libraries import *\n",
    "import pd_filter_fcns\n",
    "\n",
    "from bucklosses_dcm import Buckconverter_losses\n",
    "\n",
    "from multiparam_multivar_generic import Multiparam_multivar_df as mp_mv_df"
   ]
  },
  {
   "cell_type": "markdown",
   "id": "628f436b-490d-47dc-a1c9-439d07877b4e",
   "metadata": {},
   "source": [
    "### Input Parameters"
   ]
  },
  {
   "cell_type": "code",
   "execution_count": null,
   "id": "ca3d8cb8-edc0-410e-a4d2-cfe2c73c1d6c",
   "metadata": {
    "jupyter": {
     "source_hidden": true
    }
   },
   "outputs": [],
   "source": [
    "# input_params = {'vin': 20,\n",
    "#                 'vout': 11.1,\n",
    "#                 'pin': 100, #21.5, #30.6,\n",
    "#                 'eff': .97, #.95,\n",
    "#                 'fs':375e3,\n",
    "#                 'ton_mult':1,\n",
    "#                 'tambient':25,\n",
    "#                 'controller':'raa489300',\n",
    "#                 #'r_shunt_input':0.010,\n",
    "#                 'lout':{'family':'hbed053t',\n",
    "#                         'value(uH)':0.33,\n",
    "#                         'config':'single'},\n",
    "#                 'lvl_config':'3 level',\n",
    "#                 'hsfet_partnum':'SIZF5302DT', #'SISH536DN',   #'ISZ0702NLS',#'SIRA74DP',#'SIRA74DP','BSC059N04LS6',#'BSZ063N04LS6',#'SIR426DP',#'SIS488DN',#'SIRA74DP',#'SIS488DN',#'AONS66408',#'AONR66406',#'SIS488DN',#'SISS4410DN',#'SISA14DN',##'SISS4410DN',#'BSC059N04LS6', #'SIS488DN''SIR426DP'\n",
    "#                 'lsfet_partnum':'SIZF5300DT', #'SISS52DN',   #'BSZ024N04LS6',#'SISA72ADN',#'SISA72ADN',#'AONS66408',#'SISS4410DN',#'SIRA74DP', #'AONS66408',#'BSC059N04LS6',#'BSZ024N04LS6',#'SIRA74DP',\n",
    "#                 'q4_partnum':'SHORT',       #'BSC020N03MSG',#'BSC020N03MSG',#'SIRA74DP',#,'AON7318',#'AONR36368',#'AON7318',#'SISA14DN',#'SISA14DN', #'SHORT', #'SISS52DN',\n",
    "#                 'vgate':10,\n",
    "#                 'rboot':5,\n",
    "#                 'm_hs':1,\n",
    "#                 'm_ls':1,\n",
    "#                 'rd':0.5,\n",
    "#                 'caps':{'vin'   :{'partnum':'GRM32EC72A106KE05L','n':4},\n",
    "#                         'vout'  :{'partnum':'GRM32EC72A106KE05L','n':8},\n",
    "#                         'flying':{'partnum':'C2012X5R1H106K125AC','n':8}}\n",
    "#                }\n",
    "# input_params['iout'] = input_params['pin']*input_params['eff']/input_params['vout']"
   ]
  },
  {
   "cell_type": "code",
   "execution_count": null,
   "id": "1001c578-5bd8-44bf-92e9-99fa14b4dba8",
   "metadata": {
    "jupyter": {
     "source_hidden": true
    }
   },
   "outputs": [],
   "source": [
    "# input_params = {'vin': 11.4,\n",
    "#                 'vout': 4.2,\n",
    "#                 'pin': 1.3, #21.5, #30.6,\n",
    "#                 'eff': .97, #.95,\n",
    "#                 'fs':300e3,\n",
    "#                 'ton_mult':1,\n",
    "#                 'tambient':25,\n",
    "#                 'controller':'raa489300',\n",
    "#                 #'r_shunt_input':0.010,\n",
    "#                 'lout':{'family':'hbed053t',\n",
    "#                         'value(uH)':0.47,\n",
    "#                         'config':'single'},\n",
    "#                 'lvl_config':'3 level',\n",
    "#                 'hsfet_partnum':'SIZF5302DT', #'SISH536DN',   #'ISZ0702NLS',#'SIRA74DP',#'SIRA74DP','BSC059N04LS6',#'BSZ063N04LS6',#'SIR426DP',#'SIS488DN',#'SIRA74DP',#'SIS488DN',#'AONS66408',#'AONR66406',#'SIS488DN',#'SISS4410DN',#'SISA14DN',##'SISS4410DN',#'BSC059N04LS6', #'SIS488DN''SIR426DP'\n",
    "#                 'lsfet_partnum':'SIZF5300DT',#'SIZF5300DT', #'SISS52DN',   #'BSZ024N04LS6',#'SISA72ADN',#'SISA72ADN',#'AONS66408',#'SISS4410DN',#'SIRA74DP', #'AONS66408',#'BSC059N04LS6',#'BSZ024N04LS6',#'SIRA74DP',\n",
    "#                 'q4_partnum':'SHORT', #'SIZF5300DT',#'SHORT',       #'BSC020N03MSG',#'BSC020N03MSG',#'SIRA74DP',#,'AON7318',#'AONR36368',#'AON7318',#'SISA14DN',#'SISA14DN', #'SHORT', #'SISS52DN',\n",
    "#                 'vgate':5,\n",
    "#                 'rboot':1,\n",
    "#                 'm_hs':1,\n",
    "#                 'm_ls':1,\n",
    "#                 'rd':0.5,\n",
    "#                 'caps':{'vin'   :{'partnum':'GRM32EC72A106KE05L','n':4},\n",
    "#                         'vout'  :{'partnum':'GRM32EC72A106KE05L','n':8},\n",
    "#                         'flying':{'partnum':'C2012X5R1H106K125AC','n':8}}\n",
    "#                }\n",
    "# input_params['iout'] = input_params['pin']*input_params['eff']/input_params['vout']"
   ]
  },
  {
   "cell_type": "code",
   "execution_count": null,
   "id": "93f72604-04ab-4cfa-b3c7-2f7439a273ad",
   "metadata": {
    "jupyter": {
     "source_hidden": true
    }
   },
   "outputs": [],
   "source": [
    "# input_params = {'vin': 28,\n",
    "#                 'vout': 4.2,\n",
    "#                 'pin': 1.3, #21.5, #30.6,\n",
    "#                 'eff': .97, #.95,\n",
    "#                 'fs':300e3,\n",
    "#                 'ton_mult':1,\n",
    "#                 'tambient':25,\n",
    "#                 'controller':'raa489300',\n",
    "#                 #'r_shunt_input':0.010,\n",
    "#                 'lout':{'family':'hbed053t',\n",
    "#                         'value(uH)':0.47,\n",
    "#                         'config':'single'},\n",
    "#                 'lvl_config':'3 level',\n",
    "#                 'hsfet_partnum':'SIZF5302DT', #'SISH536DN',   #'ISZ0702NLS',#'SIRA74DP',#'SIRA74DP','BSC059N04LS6',#'BSZ063N04LS6',#'SIR426DP',#'SIS488DN',#'SIRA74DP',#'SIS488DN',#'AONS66408',#'AONR66406',#'SIS488DN',#'SISS4410DN',#'SISA14DN',##'SISS4410DN',#'BSC059N04LS6', #'SIS488DN''SIR426DP'\n",
    "#                 'lsfet_partnum':'SIZF5300DT',#'SIZF5300DT', #'SISS52DN',   #'BSZ024N04LS6',#'SISA72ADN',#'SISA72ADN',#'AONS66408',#'SISS4410DN',#'SIRA74DP', #'AONS66408',#'BSC059N04LS6',#'BSZ024N04LS6',#'SIRA74DP',\n",
    "#                 'q4_partnum':'SHORT', #'SIZF5300DT',#'SHORT',       #'BSC020N03MSG',#'BSC020N03MSG',#'SIRA74DP',#,'AON7318',#'AONR36368',#'AON7318',#'SISA14DN',#'SISA14DN', #'SHORT', #'SISS52DN',\n",
    "#                 'vgate':5,\n",
    "#                 'rboot':1,\n",
    "#                 'm_hs':1,\n",
    "#                 'm_ls':1,\n",
    "#                 'rd':0.5,\n",
    "#                 'caps':{'vin'   :{'partnum':'GRM32EC72A106KE05L','n':4},\n",
    "#                         'vout'  :{'partnum':'GRM32EC72A106KE05L','n':8},\n",
    "#                         'flying':{'partnum':'C2012X5R1H106K125AC','n':8}}\n",
    "#                }\n",
    "# input_params['iout'] = input_params['pin']*input_params['eff']/input_params['vout']"
   ]
  },
  {
   "cell_type": "code",
   "execution_count": null,
   "id": "bcd57077-ef67-44fd-b46e-6a28e4992133",
   "metadata": {
    "jupyter": {
     "source_hidden": true
    }
   },
   "outputs": [],
   "source": [
    "# input_params = {'vin': 48,\n",
    "#                 'vout': 20,\n",
    "#                 'pin': 280, #21.5, #30.6,\n",
    "#                 'eff': .98, #.95,\n",
    "#                 'fs':320e3,\n",
    "#                 'tambient':45,\n",
    "#                 'controller':'raa489300',\n",
    "#                 #'r_shunt_input':0.010,\n",
    "#                 'lout':{'family':'cmll063t',\n",
    "#                         'value(uH)':0.68,\n",
    "#                         'config':'single'},\n",
    "#                 'lvl_config':'3 level',\n",
    "#                 'hsfet_partnum':'ISZ0702NLS', #'SISH536DN',   #'ISZ0702NLS',#'SIRA74DP',#'SIRA74DP','BSC059N04LS6',#'BSZ063N04LS6',#'SIR426DP',#'SIS488DN',#'SIRA74DP',#'SIS488DN',#'AONS66408',#'AONR66406',#'SIS488DN',#'SISS4410DN',#'SISA14DN',##'SISS4410DN',#'BSC059N04LS6', #'SIS488DN''SIR426DP'\n",
    "#                 'lsfet_partnum':'BSZ024N04LS6',#'SISS52DN',   #'BSZ024N04LS6',#'SISA72ADN',#'SISA72ADN',#'AONS66408',#'SISS4410DN',#'SIRA74DP', #'AONS66408',#'BSC059N04LS6',#'BSZ024N04LS6',#'SIRA74DP',\n",
    "#                 'q4_partnum':'SHORT',       #'BSC020N03MSG',#'BSC020N03MSG',#'SIRA74DP',#,'AON7318',#'AONR36368',#'AON7318',#'SISA14DN',#'SISA14DN', #'SHORT', #'SISS52DN',\n",
    "#                 'vgate':10,\n",
    "#                 'rboot':3,\n",
    "#                 'm_hs':1,\n",
    "#                 'm_ls':1,\n",
    "#                 'rd':0.5,\n",
    "#                 'caps':{'vin'   :{'partnum':'GRM32EC72A106KE05L','n':4},\n",
    "#                         'vout'  :{'partnum':'GRM32EC72A106KE05L','n':8},\n",
    "#                         'flying':{'partnum':'C2012X5R1H106K125AC','n':8}}\n",
    "#                }\n",
    "# input_params['iout'] = input_params['pin']*input_params['eff']/input_params['vout']"
   ]
  },
  {
   "cell_type": "code",
   "execution_count": null,
   "id": "623190ff-3375-4ee1-881b-eae59f01a7c5",
   "metadata": {
    "jupyter": {
     "source_hidden": true
    }
   },
   "outputs": [],
   "source": [
    "input_params = {'vin': 28,\n",
    "                'vout': 9, #9,\n",
    "                'pin': 165,\n",
    "                'eff': 1,\n",
    "                'fs':300e3, #318e3,   #839k,723k,635k carova at inductor\n",
    "                'ton_mult':1,\n",
    "                'tambient':60,\n",
    "                'controller':'raa489300',\n",
    "                'r_shunt_input':0.010,\n",
    "                'rboot':1,\n",
    "                'lout':{'family':'hbed053t', #'ihlp5050ez01', #'hbed053t',\n",
    "                        'value(uH)':0.47, #1.0,\n",
    "                        'config':'single'},\n",
    "                'lvl_config':'3 level',\n",
    "                'hsfet_partnum':'AONR36368',#'SISH536DN', #'BSZ024N04LS6',#'SISH536DN', #'ISZ0702NLS',#'SIRA74DP',#'SIRA74DP','BSC059N04LS6',#'BSZ063N04LS6',#'SIR426DP',#'SIS488DN',#'SIRA74DP',#'SIS488DN',#'AONS66408',#'AONR66406',#'SIS488DN',#'SISS4410DN',#'SISA14DN',##'SISS4410DN',#'BSC059N04LS6', #'SIS488DN''SIR426DP'\n",
    "                'lsfet_partnum':'SISS54DN',#'BSZ024N04LS6',#'SISA72ADN',#'SISA72ADN',#'AONS66408',#'SISS4410DN',#'SIRA74DP', #'AONS66408',#'BSC059N04LS6',#'BSZ024N04LS6',#'SIRA74DP',\n",
    "                'q4_partnum':'SHORT',#'SISS52DN',#'AON6314', #'SHORT', #'BSC020N03MSG',#'BSC020N03MSG',#'SIRA74DP',#,'AON7318',#'AONR36368',#'AON7318',#'SISA14DN',#'SISA14DN', #'SHORT', #'SISS52DN',\n",
    "                'vgate':10,\n",
    "                'm_hs':1,\n",
    "                'm_ls':1,\n",
    "                'rd':0.5,\n",
    "                'caps':{'vin'   :{'partnum':'GRM32EC72A106KE05L','n':4},\n",
    "                        'vout'  :{'partnum':'GRM32EC72A106KE05L','n':8},\n",
    "                        'flying':{'partnum':'C2012X5R1H106K125AC','n':8}}\n",
    "               }\n",
    "input_params['iout'] = input_params['pin']*input_params['eff']/input_params['vout']"
   ]
  },
  {
   "cell_type": "code",
   "execution_count": 5,
   "id": "2e322efb-b68b-484b-9296-ffd0e7f57bcd",
   "metadata": {},
   "outputs": [],
   "source": [
    "input_params = {'vin': 28,\n",
    "                'vout': 9, #9,\n",
    "                'pin': 164,\n",
    "                'eff': 1,\n",
    "                'fs':300e3, #318e3,   #839k,723k,635k carova at inductor\n",
    "                'ton_mult':1,\n",
    "                'tambient':35,\n",
    "                'controller':'raa489300',\n",
    "                'r_shunt_input':0.010,\n",
    "                'rboot':1,\n",
    "                'lout':{'family':'cmll063t', #'hbed053t', #'cmll063t', #'hbed053t', #'ihlp5050ez01', #'hbed053t',\n",
    "                        'value(uH)':0.4, #1.0,\n",
    "                        'config':'single'},\n",
    "                'lvl_config':'3 level',\n",
    "                'hsfet_partnum':'SIRA12DDP',#'SISH536DN',#'SIZ342',#'SISH536DN', #'BSZ024N04LS6',#'SISH536DN', #'ISZ0702NLS',#'SIRA74DP',#'SIRA74DP','BSC059N04LS6',#'BSZ063N04LS6',#'SIR426DP',#'SIS488DN',#'SIRA74DP',#'SIS488DN',#'AONS66408',#'AONR66406',#'SIS488DN',#'SISS4410DN',#'SISA14DN',##'SISS4410DN',#'BSC059N04LS6', #'SIS488DN''SIR426DP'\n",
    "                'lsfet_partnum':'SISS54DN',#'BSZ024N04LS6',#'SISA72ADN',#'SISA72ADN',#'AONS66408',#'SISS4410DN',#'SIRA74DP', #'AONS66408',#'BSC059N04LS6',#'BSZ024N04LS6',#'SIRA74DP',\n",
    "                'q4_partnum':'AON6314', #'SHORT',#'SISS52DN',#'AON6314', #'SHORT', #'BSC020N03MSG',#'BSC020N03MSG',#'SIRA74DP',#,'AON7318',#'AONR36368',#'AON7318',#'SISA14DN',#'SISA14DN', #'SHORT', #'SISS52DN',\n",
    "                'vgate':10,\n",
    "                'm_hs':1,\n",
    "                'm_ls':1,\n",
    "                'rd':0.5,\n",
    "                'caps':{'vin'   :{'partnum':'GRM32EC72A106KE05L','n':4},\n",
    "                        'vout'  :{'partnum':'GRM32EC72A106KE05L','n':8},\n",
    "                        'flying':{'partnum':'C2012X5R1H106K125AC','n':8}}\n",
    "               }\n",
    "input_params['iout'] = input_params['pin']*input_params['eff']/input_params['vout']"
   ]
  },
  {
   "cell_type": "code",
   "execution_count": null,
   "id": "a1e02264-37ef-4b98-bcc4-ea64f2ae856e",
   "metadata": {
    "jupyter": {
     "source_hidden": true
    }
   },
   "outputs": [],
   "source": [
    "input_params = {'vin': 28,\n",
    "                'vout': 12, #9,\n",
    "                'pin': 165,\n",
    "                'eff': 1,\n",
    "                'fs':733e3, #318e3,   #839k,723k,635k carova at inductor\n",
    "                'ton_mult':1,\n",
    "                'tambient':45,\n",
    "                'controller':'raa489110',\n",
    "                'r_shunt_input':0.010,\n",
    "                'rboot':0,\n",
    "                'lout':{'family':'ihlp5050ez01', #'hbed053t',\n",
    "                        'value(uH)':2.2,\n",
    "                        'config':'single'},\n",
    "                'lvl_config':'2 level',\n",
    "                'hsfet_partnum':'AONS66408',#'BSZ024N04LS6',#'SISH536DN', #'ISZ0702NLS',#'SIRA74DP',#'SIRA74DP','BSC059N04LS6',#'BSZ063N04LS6',#'SIR426DP',#'SIS488DN',#'SIRA74DP',#'SIS488DN',#'AONS66408',#'AONR66406',#'SIS488DN',#'SISS4410DN',#'SISA14DN',##'SISS4410DN',#'BSC059N04LS6', #'SIS488DN''SIR426DP'\n",
    "                'lsfet_partnum':'AONS66408',#'SISS52DN',#'BSZ024N04LS6',#'SISA72ADN',#'SISA72ADN',#'AONS66408',#'SISS4410DN',#'SIRA74DP', #'AONS66408',#'BSC059N04LS6',#'BSZ024N04LS6',#'SIRA74DP',\n",
    "                'q4_partnum':'AON6314',#'SHORT', #'BSC020N03MSG',#'BSC020N03MSG',#'SIRA74DP',#,'AON7318',#'AONR36368',#'AON7318',#'SISA14DN',#'SISA14DN', #'SHORT', #'SISS52DN',\n",
    "                'vgate':5,\n",
    "                'm_hs':2,\n",
    "                'm_ls':1,\n",
    "                'rd':0.5,\n",
    "                'caps':{'vin'   :{'partnum':'GRM32EC72A106KE05L','n':4},\n",
    "                        'vout'  :{'partnum':'GRM32EC72A106KE05L','n':8},\n",
    "                        'flying':{'partnum':'C2012X5R1H106K125AC','n':8}}\n",
    "               }\n",
    "input_params['iout'] = input_params['pin']*input_params['eff']/input_params['vout']"
   ]
  },
  {
   "cell_type": "markdown",
   "id": "582e2b0a-660b-498b-b9c8-01108613c661",
   "metadata": {},
   "source": [
    "## Results"
   ]
  },
  {
   "cell_type": "code",
   "execution_count": 6,
   "id": "dea7e0d0-655b-4253-8c14-d11e688a0227",
   "metadata": {},
   "outputs": [
    {
     "data": {
      "text/plain": [
       "{'hs fet': 1.2143,\n",
       " 'ls fet': 0.5588,\n",
       " 'q4 fet': 0.7981,\n",
       " 'lout': 1.6024,\n",
       " 'caps': 0.4581,\n",
       " 'ic_with_gate': 0.386,\n",
       " 'total': 7.4967,\n",
       " 'efficiency': 0.9563,\n",
       " 'Fs': 600000.0}"
      ]
     },
     "execution_count": 6,
     "metadata": {},
     "output_type": "execute_result"
    }
   ],
   "source": [
    "b_loss = Buckconverter_losses(input_params)\n",
    "b_loss.p_totals#|b_loss.p_summary"
   ]
  },
  {
   "cell_type": "code",
   "execution_count": 7,
   "id": "1405dec5-d6df-4dac-804e-4549e754075a",
   "metadata": {},
   "outputs": [
    {
     "data": {
      "text/plain": [
       "{'hs turn-on': 0.002,\n",
       " 'hs turn-off': 0.873,\n",
       " 'hs rdson': 0.323,\n",
       " 'hs ringing': 0.016,\n",
       " 'hs gate': 0.048,\n",
       " 'ls rdson': 0.214,\n",
       " 'ls bd': 0.26,\n",
       " 'ls ring_qrr': 0.084,\n",
       " 'ls gate': 0.12,\n",
       " 'q4_rdson': 0.798,\n",
       " 'lout rdc+rac': 0.823,\n",
       " 'lout core': 0.78,\n",
       " 'flying cap': 0.051,\n",
       " 'input cap': 0.404,\n",
       " 'board cu': 0.363,\n",
       " 'ic': 0.05,\n",
       " 'inp_shunt': 0.343}"
      ]
     },
     "execution_count": 7,
     "metadata": {},
     "output_type": "execute_result"
    }
   ],
   "source": [
    "b_loss.p_summary"
   ]
  },
  {
   "cell_type": "code",
   "execution_count": null,
   "id": "ddf851a3-c364-49d6-97bf-c13da25f9f83",
   "metadata": {},
   "outputs": [],
   "source": [
    "18.3**2*.0035"
   ]
  },
  {
   "cell_type": "code",
   "execution_count": null,
   "id": "bee9cef8-a4fa-4958-9a05-55619782a1bb",
   "metadata": {},
   "outputs": [],
   "source": [
    "b_loss.hs_Losses_obj"
   ]
  },
  {
   "cell_type": "code",
   "execution_count": null,
   "id": "967b0a9c-8305-4e35-aaf1-c50ec1181767",
   "metadata": {},
   "outputs": [],
   "source": [
    "b_loss.ls_losses_obj.lsfet_params"
   ]
  },
  {
   "cell_type": "code",
   "execution_count": null,
   "id": "5dd1f9f6-d405-49d0-b6ce-0237d0b4fb9d",
   "metadata": {},
   "outputs": [],
   "source": [
    "b_loss.lout_obj.ind#.summary"
   ]
  },
  {
   "cell_type": "code",
   "execution_count": null,
   "id": "c54affe1-ff32-4afa-9a61-196789bd5a80",
   "metadata": {},
   "outputs": [],
   "source": [
    "b_loss.lout_obj.ipp"
   ]
  },
  {
   "cell_type": "code",
   "execution_count": null,
   "id": "e789e879-1a81-4972-a914-a06fe1024f5a",
   "metadata": {},
   "outputs": [],
   "source": [
    "b_loss.hs_Losses_obj.summary"
   ]
  },
  {
   "cell_type": "code",
   "execution_count": null,
   "id": "3faf24da-2663-4182-8b22-42d8c5cc3cea",
   "metadata": {},
   "outputs": [],
   "source": [
    "b_loss.ls_losses_obj.fet_cap.q_oss(20)"
   ]
  },
  {
   "cell_type": "code",
   "execution_count": null,
   "id": "0206b27a-f86e-4bed-acd9-7705a2a6fbf5",
   "metadata": {},
   "outputs": [],
   "source": [
    ".0035*b_loss.ckt_params['t_Qhs']/b_loss.hs_Losses_obj.ts*(b_loss.lout_obj.summary['irms_dcm']/2)**2"
   ]
  },
  {
   "cell_type": "code",
   "execution_count": null,
   "id": "6179288d-c5b6-4e37-a07e-6f7518870218",
   "metadata": {},
   "outputs": [],
   "source": [
    "p_summary = {key:round(value,3) for key,value in b_loss.p_summary.items()}"
   ]
  },
  {
   "cell_type": "code",
   "execution_count": null,
   "id": "b4c20dcf-0fb9-4569-ba97-9624d9b372cf",
   "metadata": {},
   "outputs": [],
   "source": [
    "p_loss_summary=b_loss.p_totals"
   ]
  },
  {
   "cell_type": "code",
   "execution_count": null,
   "id": "77831238-5ec5-429e-aa0b-664117846769",
   "metadata": {},
   "outputs": [],
   "source": [
    "comp_list = ['hs fet','ls fet', 'lout','ic_with_gate']"
   ]
  },
  {
   "cell_type": "code",
   "execution_count": null,
   "id": "e70cc1d4-357a-4f12-ad2a-12711c4d111c",
   "metadata": {},
   "outputs": [],
   "source": [
    "for comp in comp_list:\n",
    "    print(f\"{comp}: {round(p_loss_summary[comp]/p_loss_summary['total']*100,1)}%\")"
   ]
  },
  {
   "cell_type": "markdown",
   "id": "9ab89552-b2a3-4969-af2c-114cf85f3669",
   "metadata": {},
   "source": [
    "### HS FET Turn on Loss"
   ]
  },
  {
   "cell_type": "code",
   "execution_count": null,
   "id": "eb53e0aa-b4eb-4155-8b10-7fa55827904f",
   "metadata": {},
   "outputs": [],
   "source": [
    "b_loss.hs_Losses_obj.fet_switch_on_obj.plot_vgs_id_vds()"
   ]
  },
  {
   "cell_type": "markdown",
   "id": "8b402582-b0b9-4e79-8074-5e2744f88c69",
   "metadata": {},
   "source": [
    "### HS FET Turn off Loss"
   ]
  },
  {
   "cell_type": "code",
   "execution_count": null,
   "id": "45b8264c-2156-4f0a-aeef-64bae994b2c2",
   "metadata": {},
   "outputs": [],
   "source": [
    "b_loss.hs_Losses_obj.fet_switch_off_obj.plot_vgs_id_vds()"
   ]
  },
  {
   "cell_type": "markdown",
   "id": "5e067723-a3be-4d3d-95d7-2540de1b20ef",
   "metadata": {},
   "source": [
    "## Total Losses:  "
   ]
  },
  {
   "cell_type": "code",
   "execution_count": null,
   "id": "da61dcfd-8e70-4e58-91f2-99567aba17bf",
   "metadata": {},
   "outputs": [],
   "source": [
    "df=pd.DataFrame.from_dict(b_loss.p_totals,orient='index',columns=['pdis'])\n"
   ]
  },
  {
   "cell_type": "code",
   "execution_count": null,
   "id": "5832558a-c265-4f4e-8200-a39a89a54c61",
   "metadata": {},
   "outputs": [],
   "source": [
    "fig=px.bar(df,orientation='h')\n",
    "fig.show()"
   ]
  },
  {
   "cell_type": "code",
   "execution_count": null,
   "id": "e3f3af64-8e53-4d03-803c-7d0667039398",
   "metadata": {},
   "outputs": [],
   "source": [
    "df=pd.DataFrame.from_dict(b_loss.p_summary,orient='index',columns=['pdis'])\n",
    "fig=px.bar(df,orientation='h')\n",
    "fig.show()"
   ]
  },
  {
   "cell_type": "markdown",
   "id": "e18b7448-d3d2-4a46-b910-85a638bc9233",
   "metadata": {},
   "source": [
    "## Total Losses:  "
   ]
  },
  {
   "cell_type": "code",
   "execution_count": null,
   "id": "b44c9355-f5aa-451e-b252-eac4dac3e26f",
   "metadata": {},
   "outputs": [],
   "source": [
    "df=pd.DataFrame.from_dict(b_loss.p_summary,orient='index',columns=['pdis'])\n",
    "idx = df.index\n",
    "val = df['pdis'].values\n",
    "val_rev = np.flip(val)"
   ]
  },
  {
   "cell_type": "code",
   "execution_count": null,
   "id": "69cb6976-f917-4c98-8063-99cd40147dd9",
   "metadata": {},
   "outputs": [],
   "source": [
    "fig = make_subplots(\n",
    "    rows=1,cols=2,\n",
    "    column_widths=[.27,.73],\n",
    "    horizontal_spacing = .04,\n",
    "    specs=[[{\"type\":\"table\"},{\"type\":\"bar\"}]]\n",
    ")\n",
    "fig.add_trace(\n",
    "    go.Table(\n",
    "        header = dict(\n",
    "            values=[' ',' '],\n",
    "            height=1,\n",
    "            font=dict(size=30)\n",
    "        ),\n",
    "        # header = dict(\n",
    "        #     values = ['index','value'],\n",
    "        #     font=dict(size=20),\n",
    "        #     align=\"left\"\n",
    "        # ),\n",
    "        cells = dict(\n",
    "            values = [idx,val],\n",
    "            font=dict(size=20),\n",
    "            height=30,\n",
    "            align=\"left\"\n",
    "        )\n",
    "        \n",
    "    ),\n",
    "    \n",
    "    row=1,col=1\n",
    ")\n",
    "fig.add_trace(\n",
    "    go.Bar(\n",
    "        x=val_rev,\n",
    "        orientation='h'\n",
    "    ),\n",
    "    row=1,col=2\n",
    ")\n",
    "fig.update_layout(\n",
    "    height=660,\n",
    "    showlegend=False,\n",
    "    title_text=\"Power Loss by Component\",\n",
    ")\n",
    "\n",
    "fig.show()"
   ]
  },
  {
   "cell_type": "markdown",
   "id": "f8d80c82-08e4-4acd-8fd0-d0540dfa1e88",
   "metadata": {},
   "source": [
    "## Multiple Config Comparison"
   ]
  },
  {
   "cell_type": "code",
   "execution_count": null,
   "id": "1920279b-ce9c-4a70-98bd-546690e55b61",
   "metadata": {
    "jupyter": {
     "source_hidden": true
    }
   },
   "outputs": [],
   "source": [
    "input_config = {idx+1:new_params for idx,new_params in enumerate([    \n",
    "                {'hsfet_partnum':'ISZ0702NLS',\n",
    "                 'lsfet_partnum':'SISS52DN'},    \n",
    "                {'hsfet_partnum':'SISS26LDN',\n",
    "                 'lsfet_partnum':'SISS4402DN'}])}\n"
   ]
  },
  {
   "cell_type": "code",
   "execution_count": null,
   "id": "e3e2d7a1-c915-436d-878c-96988859a1f4",
   "metadata": {
    "jupyter": {
     "source_hidden": true
    }
   },
   "outputs": [],
   "source": [
    "input_config = {idx+1:new_params for idx,new_params in enumerate([    \n",
    "                {'hsfet_partnum':'SISH536DN',\n",
    "                 'lsfet_partnum':'SISS52DN'},    \n",
    "                {'hsfet_partnum':'SIZF5302DT',\n",
    "                 'lsfet_partnum':'SIZF5300DT'}])}\n"
   ]
  },
  {
   "cell_type": "code",
   "execution_count": null,
   "id": "1fc4b979-d73a-4627-a229-71d53931eb14",
   "metadata": {
    "jupyter": {
     "source_hidden": true
    }
   },
   "outputs": [],
   "source": [
    "input_config = {idx+1:new_params for idx,new_params in enumerate([    \n",
    "                {'lout':{'family':'hbed053t',\n",
    "                        'value(uH)':0.33,\n",
    "                        'config':'single'}},\n",
    "                {'lout':{'family':'hbed053t',\n",
    "                        'value(uH)':0.47,\n",
    "                        'config':'single'}},\n",
    "                 {'lout':{'family':'hbed053t',\n",
    "                        'value(uH)':0.68,\n",
    "                        'config':'single'}}])}\n"
   ]
  },
  {
   "cell_type": "code",
   "execution_count": null,
   "id": "d14782cb-fb13-43fa-a849-f71d9b423062",
   "metadata": {
    "jupyter": {
     "source_hidden": true
    }
   },
   "outputs": [],
   "source": [
    "input_config = {idx+1:new_params for idx,new_params in enumerate([    \n",
    "                {'ton_mult':0.5},    \n",
    "                {'ton_mult':1},\n",
    "                {'ton_mult':1.5},\n",
    "                {'ton_mult':2}])}\n"
   ]
  },
  {
   "cell_type": "code",
   "execution_count": null,
   "id": "111b07a6-24f5-4945-b34d-3c7a1a352b2d",
   "metadata": {},
   "outputs": [],
   "source": [
    "input_config = {idx+1:new_params for idx,new_params in enumerate([    \n",
    "                {'hsfet_partnum':'SISH536DN',\n",
    "                 'lsfet_partnum':'SISS52DN'},    \n",
    "                {'hsfet_partnum':'BSZ024N04LS6',\n",
    "                 'lsfet_partnum':'SISS52DN'}])}\n"
   ]
  },
  {
   "cell_type": "code",
   "execution_count": null,
   "id": "f32760f4-68ab-4b0d-bf35-8d4b885d4594",
   "metadata": {},
   "outputs": [],
   "source": [
    "input_config = {idx+1:new_params for idx,new_params in enumerate([    \n",
    "                {'lsfet_partnum':'SISS54DN'},    \n",
    "                {'lsfet_partnum':'SISS52DN'}])}\n"
   ]
  },
  {
   "cell_type": "code",
   "execution_count": null,
   "id": "58f390e5-69a1-4f25-a1a5-d26e2f45b8a7",
   "metadata": {},
   "outputs": [],
   "source": [
    "input_config = {idx+1:new_params for idx,new_params in enumerate([    \n",
    "                {'hsfet_partnum':'SISH536DN'},    \n",
    "                {'hsfet_partnum':'AONR36368'}])}\n"
   ]
  },
  {
   "cell_type": "code",
   "execution_count": null,
   "id": "82841c62-b6f5-41dd-92dd-1980f67a4a3c",
   "metadata": {},
   "outputs": [],
   "source": [
    "input_config = {idx+1:new_params for idx,new_params in enumerate([    \n",
    "                {'hsfet_partnum':'SISH536DN'},    \n",
    "                {'hsfet_partnum':'AON7318'}])}\n"
   ]
  },
  {
   "cell_type": "code",
   "execution_count": null,
   "id": "159c6354-3b4e-4153-943a-3e1b06a6200c",
   "metadata": {},
   "outputs": [],
   "source": [
    "iout = range(0,21,3)\n",
    "#iout = np.arange(0.1,5,0.1).tolist()\n",
    "#iout = np.logspace(-1,1,num=100,base=10,endpoint=True).tolist()\n",
    "var_list = {'param':'iout','values':iout}"
   ]
  },
  {
   "cell_type": "code",
   "execution_count": null,
   "id": "949fd56a-92e5-4ee6-8924-b1ac6405ed43",
   "metadata": {},
   "outputs": [],
   "source": [
    "df_all = mp_mv_df(Buckconverter_losses,input_params,input_config,var_list)\n",
    "#df_all = mp_mv_df(input_params,input_config,var_list)\n"
   ]
  },
  {
   "cell_type": "code",
   "execution_count": null,
   "id": "992ffd82-0ea6-4726-b34a-22a72419b34e",
   "metadata": {
    "jupyter": {
     "source_hidden": true
    }
   },
   "outputs": [],
   "source": [
    "#df_all.df.drop([0],inplace=True)\n",
    "df_all.parametric_plot('Fs',logx=True)"
   ]
  },
  {
   "cell_type": "code",
   "execution_count": null,
   "id": "b894497e-cab3-4c5b-890c-d13612b3b0db",
   "metadata": {},
   "outputs": [],
   "source": [
    "df_all.df.drop([0],inplace=True)\n",
    "df_all.parametric_plot('efficiency') #,logx=True)"
   ]
  },
  {
   "cell_type": "code",
   "execution_count": null,
   "id": "03d18a7d-1cd5-466f-868a-8d44dd1078a1",
   "metadata": {},
   "outputs": [],
   "source": [
    "#df_all.df.drop([0],inplace=True)\n",
    "df_all.parametric_plot('total')#,logx=True)"
   ]
  },
  {
   "cell_type": "code",
   "execution_count": null,
   "id": "71861364-148f-43da-b7eb-375fd360928c",
   "metadata": {},
   "outputs": [],
   "source": [
    "df_all.df[['ls rdson','ls bd','ls gate','ls ring_qrr']]"
   ]
  },
  {
   "cell_type": "code",
   "execution_count": null,
   "id": "45960289-222a-4cf3-953e-8ae084b3bf32",
   "metadata": {},
   "outputs": [],
   "source": [
    "df_all.df.columns"
   ]
  },
  {
   "cell_type": "code",
   "execution_count": null,
   "id": "e9497bee-f150-4bcc-9eab-c425d3d85a14",
   "metadata": {},
   "outputs": [],
   "source": [
    "df_all.to_csv(r'sim_results\\165W_28Vin_10Vout_multipleconfigs_100523.csv')"
   ]
  },
  {
   "cell_type": "code",
   "execution_count": null,
   "id": "d1e5e85b-3ea3-488f-8a73-48b46cf3ff36",
   "metadata": {},
   "outputs": [],
   "source": [
    "df = pd.DataFrame.from_dict(b_loss.p_summary| b_loss.p_totals,orient='index',columns=[b_loss.idc])\n",
    "df.T"
   ]
  }
 ],
 "metadata": {
  "kernelspec": {
   "display_name": "Python 3 (ipykernel)",
   "language": "python",
   "name": "python3"
  },
  "language_info": {
   "codemirror_mode": {
    "name": "ipython",
    "version": 3
   },
   "file_extension": ".py",
   "mimetype": "text/x-python",
   "name": "python",
   "nbconvert_exporter": "python",
   "pygments_lexer": "ipython3",
   "version": "3.9.13"
  }
 },
 "nbformat": 4,
 "nbformat_minor": 5
}
