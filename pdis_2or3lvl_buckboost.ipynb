{
 "cells": [
  {
   "cell_type": "markdown",
   "id": "839ee563-bb8a-4504-a603-c2b3d490286f",
   "metadata": {},
   "source": [
    "## 2lvl or 3lvl Buck or Buckboost Power Dissapation"
   ]
  },
  {
   "cell_type": "code",
   "execution_count": null,
   "id": "59e21e25-3a90-4497-be14-5a0052466fb6",
   "metadata": {},
   "outputs": [],
   "source": [
    "# use modified cyntec model, which simplifies input parameter dependent variables\n",
    "# added nxTON DCM calculation"
   ]
  },
  {
   "cell_type": "markdown",
   "id": "285ad67d-4133-4fc9-a259-6879ec52728f",
   "metadata": {},
   "source": [
    "#### to do:\n",
    "1. verify ciss,coss and crss models vs. datasheet graphs\n",
    "2. add self heating to mosfets\n",
    "3. set up jupyter server for public use\n",
    "4. create gui front end\n",
    "5. add features to excel export function "
   ]
  },
  {
   "cell_type": "code",
   "execution_count": 1,
   "id": "446fc91a-4bd5-485f-8a35-81f39d2b2849",
   "metadata": {
    "tags": []
   },
   "outputs": [],
   "source": [
    "import libs.append_path\n",
    "from add_python_libraries import *\n",
    "import pd_filter_fcns\n",
    "\n",
    "from bucklosses_dcm import Buckconverter_losses\n",
    "\n",
    "from multiparam_multivar_generic import Multiparam_multivar_df as mp_mv_df"
   ]
  },
  {
   "cell_type": "markdown",
   "id": "628f436b-490d-47dc-a1c9-439d07877b4e",
   "metadata": {},
   "source": [
    "### Input Parameters"
   ]
  },
  {
   "cell_type": "code",
   "execution_count": null,
   "id": "2e322efb-b68b-484b-9296-ffd0e7f57bcd",
   "metadata": {
    "jupyter": {
     "source_hidden": true
    }
   },
   "outputs": [],
   "source": [
    "input_params = {'vin': 28,\n",
    "                'vout': 12, #9,\n",
    "                'pin': 164,\n",
    "                'eff': 1,\n",
    "                'fs':300e3, #318e3,   #839k,723k,635k carova at inductor\n",
    "                'ton_mult':1,\n",
    "                'tambient':35,\n",
    "                'controller':'raa489300', #raa489110, raa489300\n",
    "                'r_shunt_input':0.010,\n",
    "                'rboot':1,\n",
    "                'lout':{'family':'cmle104t', #'cmll063t', #'hbed053t', #'cmll063t', #'hbed053t', #'ihlp5050ez01', #'hbed053t',\n",
    "                        'value(uH)':1.0,\n",
    "                        'config':'single'}, #single, series, parallel\n",
    "                'lvl_config':'3 level',  #2 level, 4 level\n",
    "                'hsfet_partnum':'SISH536DN', #'RBE030N04', #'SIRA12DDP',#'SISH536DN',#'SIZ342',#'SISH536DN', #'BSZ024N04LS6',#'SISH536DN', #'ISZ0702NLS',#'SIRA74DP',#'SIRA74DP','BSC059N04LS6',#'BSZ063N04LS6',#'SIR426DP',#'SIS488DN',#'SIRA74DP',#'SIS488DN',#'AONS66408',#'AONR66406',#'SIS488DN',#'SISS4410DN',#'SISA14DN',##'SISS4410DN',#'BSC059N04LS6', #'SIS488DN''SIR426DP'\n",
    "                'lsfet_partnum':'SISS54DN',#'BSZ024N04LS6',#'SISA72ADN',#'SISA72ADN',#'AONS66408',#'SISS4410DN',#'SIRA74DP', #'AONS66408',#'BSC059N04LS6',#'BSZ024N04LS6',#'SIRA74DP',\n",
    "                'q4_partnum':'AON6314', #'SHORT',#'SISS52DN',#'AON6314', #'SHORT', #'BSC020N03MSG',#'BSC020N03MSG',#'SIRA74DP',#,'AON7318',#'AONR36368',#'AON7318',#'SISA14DN',#'SISA14DN', #'SHORT', #'SISS52DN',\n",
    "                'vgate':10,\n",
    "                'm_hs':1,\n",
    "                'm_ls':1,\n",
    "                'rd':0.5,\n",
    "                'caps':{'vin'   :{'partnum':'GRM32EC72A106KE05L','n':4},\n",
    "                        'vout'  :{'partnum':'GRM32EC72A106KE05L','n':8},\n",
    "                        'flying':{'partnum':'C2012X5R1H106K125AC','n':8}}\n",
    "               }\n",
    "input_params['iout'] = input_params['pin']*input_params['eff']/input_params['vout']"
   ]
  },
  {
   "cell_type": "code",
   "execution_count": 2,
   "id": "325f6e41-0843-4b2b-960c-3da9281cd206",
   "metadata": {},
   "outputs": [],
   "source": [
    "input_params = {'vin': 28,\n",
    "                'vout': 12, #9,\n",
    "                'pin': 164,\n",
    "                'eff': 1,\n",
    "                'fs':680e3, #318e3,   #839k,723k,635k carova at inductor\n",
    "                'ton_mult':1,\n",
    "                'tambient':35,\n",
    "                'controller':'raa489110', #raa489110, raa489300\n",
    "                'r_shunt_input':0.010,\n",
    "                'rboot':1,\n",
    "                'lout':{'family':'ihlp5050ez01',#'cmll063t', #'hbed053t', #'cmll063t', #'hbed053t', #'ihlp5050ez01', #'hbed053t',\n",
    "                        'value(uH)':2.2, #0.4, #1.0,\n",
    "                        'config':'single'}, #single, series, parallel\n",
    "                'lvl_config':'2 level',  #2 level, 4 level\n",
    "                'hsfet_partnum':'AONS66408', #'SISH536DN', #'RBE030N04', #'SIRA12DDP',#'SISH536DN',#'SIZ342',#'SISH536DN', #'BSZ024N04LS6',#'SISH536DN', #'ISZ0702NLS',#'SIRA74DP',#'SIRA74DP','BSC059N04LS6',#'BSZ063N04LS6',#'SIR426DP',#'SIS488DN',#'SIRA74DP',#'SIS488DN',#'AONS66408',#'AONR66406',#'SIS488DN',#'SISS4410DN',#'SISA14DN',##'SISS4410DN',#'BSC059N04LS6', #'SIS488DN''SIR426DP'\n",
    "                'lsfet_partnum':'AONS66408', #'SISS54DN',#'BSZ024N04LS6',#'SISA72ADN',#'SISA72ADN',#'AONS66408',#'SISS4410DN',#'SIRA74DP', #'AONS66408',#'BSC059N04LS6',#'BSZ024N04LS6',#'SIRA74DP',\n",
    "                'q4_partnum':'AON6314', #'SHORT',#'SISS52DN',#'AON6314', #'SHORT', #'BSC020N03MSG',#'BSC020N03MSG',#'SIRA74DP',#,'AON7318',#'AONR36368',#'AON7318',#'SISA14DN',#'SISA14DN', #'SHORT', #'SISS52DN',\n",
    "                'vgate':5,\n",
    "                'm_hs':1,\n",
    "                'm_ls':1,\n",
    "                #'qrr_vs_i':'sqrt', #'linear', 'constant' = default\n",
    "                'rd':0.5,\n",
    "                'caps':{'vin'   :{'partnum':'GRM32EC72A106KE05L','n':4},\n",
    "                        'vout'  :{'partnum':'GRM32EC72A106KE05L','n':8},\n",
    "                        'flying':{'partnum':'C2012X5R1H106K125AC','n':8}}\n",
    "               }\n",
    "input_params['iout'] = input_params['pin']*input_params['eff']/input_params['vout']"
   ]
  },
  {
   "cell_type": "markdown",
   "id": "582e2b0a-660b-498b-b9c8-01108613c661",
   "metadata": {},
   "source": [
    "## Results"
   ]
  },
  {
   "cell_type": "code",
   "execution_count": 3,
   "id": "dea7e0d0-655b-4253-8c14-d11e688a0227",
   "metadata": {},
   "outputs": [
    {
     "data": {
      "text/plain": [
       "{'hs fet': 1.4613,\n",
       " 'ls fet': 1.6264,\n",
       " 'q4 fet': 0.5279,\n",
       " 'lout': 1.9486,\n",
       " 'caps': 0.0462,\n",
       " 'ic_with_gate': 0.562,\n",
       " 'board cu': 0.213,\n",
       " 'inp_shunt': 0.343,\n",
       " 'total': 6.7284,\n",
       " 'efficiency': 0.9606,\n",
       " 'Fs': 680000.0}"
      ]
     },
     "execution_count": 3,
     "metadata": {},
     "output_type": "execute_result"
    }
   ],
   "source": [
    "b_loss = Buckconverter_losses(input_params)\n",
    "b_loss.p_totals#|b_loss.p_summary"
   ]
  },
  {
   "cell_type": "code",
   "execution_count": 4,
   "id": "1405dec5-d6df-4dac-804e-4549e754075a",
   "metadata": {},
   "outputs": [
    {
     "data": {
      "text/plain": [
       "{'hs turn-on': 0.433,\n",
       " 'hs turn-off': 0.615,\n",
       " 'hs rdson': 0.293,\n",
       " 'hs ringing': 0.12,\n",
       " 'hs gate': 0.276,\n",
       " 'ls rdson': 0.39,\n",
       " 'ls bd': 0.213,\n",
       " 'ls ring_qrr': 1.024,\n",
       " 'ls gate': 0.276,\n",
       " 'q4_rdson': 0.528,\n",
       " 'lout rdc+rac': 1.014,\n",
       " 'lout core': 0.934,\n",
       " 'flying cap': 0.0,\n",
       " 'input cap': 0.046,\n",
       " 'board cu': 0.213,\n",
       " 'ic': 0.01,\n",
       " 'inp_shunt': 0.343}"
      ]
     },
     "execution_count": 4,
     "metadata": {},
     "output_type": "execute_result"
    }
   ],
   "source": [
    "b_loss.p_summary"
   ]
  },
  {
   "cell_type": "code",
   "execution_count": 13,
   "id": "06e60213-a5d8-4e0f-8b68-fcef0b176ddb",
   "metadata": {},
   "outputs": [],
   "source": [
    "b_loss.ls_losses_obj.ip['qrr_vs_i']='constant'"
   ]
  },
  {
   "cell_type": "code",
   "execution_count": 14,
   "id": "bce5ee0f-89f2-4847-b450-a1e70207e564",
   "metadata": {},
   "outputs": [
    {
     "data": {
      "text/plain": [
       "0.78064"
      ]
     },
     "execution_count": 14,
     "metadata": {},
     "output_type": "execute_result"
    }
   ],
   "source": [
    "b_loss.ls_losses_obj.qrr()*28*680e3"
   ]
  },
  {
   "cell_type": "code",
   "execution_count": 7,
   "id": "8f12732c-0760-4a3a-8bcf-c48a58ddef5d",
   "metadata": {},
   "outputs": [],
   "source": [
    "b_loss.ls_losses_obj.ip['qrr_vs_i']='linear'"
   ]
  },
  {
   "cell_type": "code",
   "execution_count": 8,
   "id": "10a9795f-f3d5-4ca5-aad6-47584b6f9899",
   "metadata": {},
   "outputs": [
    {
     "data": {
      "text/plain": [
       "0.44398278787878787"
      ]
     },
     "execution_count": 8,
     "metadata": {},
     "output_type": "execute_result"
    }
   ],
   "source": [
    "b_loss.ls_losses_obj.qrr()*28*680e3"
   ]
  },
  {
   "cell_type": "code",
   "execution_count": 9,
   "id": "8c238c13-7fdd-4ca8-915c-c8d8138698e4",
   "metadata": {},
   "outputs": [],
   "source": [
    "b_loss.ls_losses_obj.ip['qrr_vs_i']='sqrt'"
   ]
  },
  {
   "cell_type": "code",
   "execution_count": 10,
   "id": "af5f4134-8310-4f1a-8c6f-68227dd79ad8",
   "metadata": {},
   "outputs": [
    {
     "data": {
      "text/plain": [
       "0.5887195627203983"
      ]
     },
     "execution_count": 10,
     "metadata": {},
     "output_type": "execute_result"
    }
   ],
   "source": [
    "b_loss.ls_losses_obj.qrr()*28*680e3"
   ]
  },
  {
   "cell_type": "code",
   "execution_count": 15,
   "id": "91723580-3895-4e3a-90a1-f1b3c72da989",
   "metadata": {},
   "outputs": [
    {
     "name": "stdout",
     "output_type": "stream",
     "text": [
      "qrr: 4.1e-08\n",
      "qoss: 2.1071131221815846e-08\n"
     ]
    },
    {
     "data": {
      "text/plain": [
       "4.1e-08"
      ]
     },
     "execution_count": 15,
     "metadata": {},
     "output_type": "execute_result"
    }
   ],
   "source": [
    "b_loss.ls_losses_obj.qrr('print')"
   ]
  },
  {
   "cell_type": "markdown",
   "id": "9ab89552-b2a3-4969-af2c-114cf85f3669",
   "metadata": {},
   "source": [
    "### HS FET Turn on Loss"
   ]
  },
  {
   "cell_type": "code",
   "execution_count": null,
   "id": "eb53e0aa-b4eb-4155-8b10-7fa55827904f",
   "metadata": {},
   "outputs": [],
   "source": [
    "b_loss.hs_Losses_obj.fet_switch_on_obj.plot_vgs_id_vds()"
   ]
  },
  {
   "cell_type": "code",
   "execution_count": null,
   "id": "f89e171a-6440-4338-84ee-03cd38fdf017",
   "metadata": {},
   "outputs": [],
   "source": [
    "b_loss.hs_Losses_obj.fet_switch_on_obj.plot_vgs_id_vds()"
   ]
  },
  {
   "cell_type": "markdown",
   "id": "8b402582-b0b9-4e79-8074-5e2744f88c69",
   "metadata": {},
   "source": [
    "### HS FET Turn off Loss"
   ]
  },
  {
   "cell_type": "code",
   "execution_count": null,
   "id": "45b8264c-2156-4f0a-aeef-64bae994b2c2",
   "metadata": {},
   "outputs": [],
   "source": [
    "b_loss.hs_Losses_obj.fet_switch_off_obj.plot_vgs_id_vds()"
   ]
  },
  {
   "cell_type": "code",
   "execution_count": null,
   "id": "6ce2e9bb-f364-4f11-880f-40be6d4af563",
   "metadata": {},
   "outputs": [],
   "source": [
    "b_loss.hs_Losses_obj.fet_switch_off_obj.plot_vgs_id_vds()"
   ]
  },
  {
   "cell_type": "markdown",
   "id": "5e067723-a3be-4d3d-95d7-2540de1b20ef",
   "metadata": {},
   "source": [
    "## Total Losses - Bar Charts:  "
   ]
  },
  {
   "cell_type": "code",
   "execution_count": null,
   "id": "da61dcfd-8e70-4e58-91f2-99567aba17bf",
   "metadata": {},
   "outputs": [],
   "source": [
    "df=pd.DataFrame.from_dict(b_loss.p_totals,orient='index',columns=['pdis'])\n"
   ]
  },
  {
   "cell_type": "code",
   "execution_count": null,
   "id": "1a9cd7fd-9dd5-4802-9a57-ca84ecbbb799",
   "metadata": {},
   "outputs": [],
   "source": [
    "def scale(x):\n",
    "    return x*1e-6\n",
    "df.loc[['Fs'],['pdis']]=df.loc[['Fs'],['pdis']].apply(scale)"
   ]
  },
  {
   "cell_type": "code",
   "execution_count": null,
   "id": "3b1f6ff8-d1d6-4f6e-b1c3-31328ec63c85",
   "metadata": {},
   "outputs": [],
   "source": [
    "df"
   ]
  },
  {
   "cell_type": "code",
   "execution_count": null,
   "id": "5832558a-c265-4f4e-8200-a39a89a54c61",
   "metadata": {},
   "outputs": [],
   "source": [
    "fig=px.bar(df,orientation='h')\n",
    "fig.show()"
   ]
  },
  {
   "cell_type": "code",
   "execution_count": null,
   "id": "e3f3af64-8e53-4d03-803c-7d0667039398",
   "metadata": {},
   "outputs": [],
   "source": [
    "df=pd.DataFrame.from_dict(b_loss.p_summary,orient='index',columns=['pdis'])\n",
    "fig=px.bar(df,orientation='h')\n",
    "fig.show()"
   ]
  },
  {
   "cell_type": "markdown",
   "id": "e18b7448-d3d2-4a46-b910-85a638bc9233",
   "metadata": {},
   "source": [
    "## Detailed Losses:  "
   ]
  },
  {
   "cell_type": "code",
   "execution_count": null,
   "id": "b44c9355-f5aa-451e-b252-eac4dac3e26f",
   "metadata": {},
   "outputs": [],
   "source": [
    "df=pd.DataFrame.from_dict(b_loss.p_summary,orient='index',columns=['pdis'])\n",
    "idx = df.index\n",
    "val = df['pdis'].values\n",
    "val_rev = np.flip(val)"
   ]
  },
  {
   "cell_type": "code",
   "execution_count": null,
   "id": "69cb6976-f917-4c98-8063-99cd40147dd9",
   "metadata": {},
   "outputs": [],
   "source": [
    "fig = make_subplots(\n",
    "    rows=1,cols=2,\n",
    "    column_widths=[.27,.73],\n",
    "    horizontal_spacing = .04,\n",
    "    specs=[[{\"type\":\"table\"},{\"type\":\"bar\"}]]\n",
    ")\n",
    "fig.add_trace(\n",
    "    go.Table(\n",
    "        header = dict(\n",
    "            values=[' ',' '],\n",
    "            height=1,\n",
    "            font=dict(size=30)\n",
    "        ),\n",
    "        # header = dict(\n",
    "        #     values = ['index','value'],\n",
    "        #     font=dict(size=20),\n",
    "        #     align=\"left\"\n",
    "        # ),\n",
    "        cells = dict(\n",
    "            values = [idx,val],\n",
    "            font=dict(size=20),\n",
    "            height=30,\n",
    "            align=\"left\"\n",
    "        )\n",
    "        \n",
    "    ),\n",
    "    \n",
    "    row=1,col=1\n",
    ")\n",
    "fig.add_trace(\n",
    "    go.Bar(\n",
    "        x=val_rev,\n",
    "        orientation='h'\n",
    "    ),\n",
    "    row=1,col=2\n",
    ")\n",
    "fig.update_layout(\n",
    "    height=660,\n",
    "    showlegend=False,\n",
    "    title_text=\"Power Loss - Detailed\",\n",
    ")\n",
    "\n",
    "fig.show()"
   ]
  },
  {
   "cell_type": "code",
   "execution_count": null,
   "id": "aa53a446-d9a8-47a0-abb6-e83b26e75997",
   "metadata": {},
   "outputs": [],
   "source": []
  }
 ],
 "metadata": {
  "kernelspec": {
   "display_name": "Python 3 (ipykernel)",
   "language": "python",
   "name": "python3"
  },
  "language_info": {
   "codemirror_mode": {
    "name": "ipython",
    "version": 3
   },
   "file_extension": ".py",
   "mimetype": "text/x-python",
   "name": "python",
   "nbconvert_exporter": "python",
   "pygments_lexer": "ipython3",
   "version": "3.9.13"
  }
 },
 "nbformat": 4,
 "nbformat_minor": 5
}
